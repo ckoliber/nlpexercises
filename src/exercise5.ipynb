{
 "cells": [
  {
   "cell_type": "markdown",
   "metadata": {},
   "source": [
    "# NLP Answers\n",
    "\n",
    "- **Answer Set**: No. 05\n",
    "- **Full Name**: Mohammad Hosein Nemati\n",
    "- **Student Code**: `610300185`"
   ]
  },
  {
   "cell_type": "markdown",
   "metadata": {},
   "source": [
    "---"
   ]
  },
  {
   "cell_type": "markdown",
   "metadata": {},
   "source": [
    "## Introduction\n",
    "\n",
    "In this problem, we are going to use **ParsBERT** pre-trained model for **Sequence Classification** task on **Persica** dataset.  \n",
    "Then we will compare the reported metrics to previously trained models in `exercise 4`\n",
    "\n",
    "In the first step, we will import some useful libraries."
   ]
  },
  {
   "cell_type": "code",
   "execution_count": 1,
   "id": "8d1e4ab7",
   "metadata": {},
   "outputs": [],
   "source": [
    "import warnings\n",
    "\n",
    "import math as math\n",
    "import hazm as hazm\n",
    "\n",
    "import numpy as np\n",
    "import pandas as pd\n",
    "import tensorflow as tf\n",
    "import matplotlib.pyplot as plt\n",
    "\n",
    "warnings.filterwarnings(\"ignore\", category=UserWarning)"
   ]
  },
  {
   "cell_type": "markdown",
   "id": "6595aa20",
   "metadata": {},
   "source": [
    "---"
   ]
  },
  {
   "cell_type": "markdown",
   "id": "f4ed694d",
   "metadata": {},
   "source": [
    "## Loading\n",
    "\n",
    "First of all, we must load the **Persica** dataset and then shuffle the records."
   ]
  },
  {
   "cell_type": "code",
   "execution_count": 2,
   "metadata": {},
   "outputs": [
    {
     "data": {
      "text/html": [
       "<div>\n",
       "<style scoped>\n",
       "    .dataframe tbody tr th:only-of-type {\n",
       "        vertical-align: middle;\n",
       "    }\n",
       "\n",
       "    .dataframe tbody tr th {\n",
       "        vertical-align: top;\n",
       "    }\n",
       "\n",
       "    .dataframe thead th {\n",
       "        text-align: right;\n",
       "    }\n",
       "</style>\n",
       "<table border=\"1\" class=\"dataframe\">\n",
       "  <thead>\n",
       "    <tr style=\"text-align: right;\">\n",
       "      <th></th>\n",
       "      <th>text</th>\n",
       "      <th>category2</th>\n",
       "      <th>length</th>\n",
       "    </tr>\n",
       "  </thead>\n",
       "  <tbody>\n",
       "    <tr>\n",
       "      <th>879</th>\n",
       "      <td>به گزارش سرويس صنفي آموزشي خبرگزاري دانشجويان ...</td>\n",
       "      <td>آموزشي</td>\n",
       "      <td>552</td>\n",
       "    </tr>\n",
       "    <tr>\n",
       "      <th>5552</th>\n",
       "      <td>به گزارش ايسنا، در مطلبي كه در سايت موسسه سياس...</td>\n",
       "      <td>سياسي</td>\n",
       "      <td>460</td>\n",
       "    </tr>\n",
       "    <tr>\n",
       "      <th>1695</th>\n",
       "      <td>به گزارش خبرگزاري دانشجويان ايران (ايسنا)، دكت...</td>\n",
       "      <td>اجتماعي</td>\n",
       "      <td>252</td>\n",
       "    </tr>\n",
       "    <tr>\n",
       "      <th>4221</th>\n",
       "      <td>يك سرطان‌شناس و عضو هيات علمي دانشگاه اعلام كر...</td>\n",
       "      <td>بهداشتي</td>\n",
       "      <td>310</td>\n",
       "    </tr>\n",
       "    <tr>\n",
       "      <th>5553</th>\n",
       "      <td>در اين نمابر آمده است كه مسؤول انتظامات اين وا...</td>\n",
       "      <td>سياسي</td>\n",
       "      <td>968</td>\n",
       "    </tr>\n",
       "    <tr>\n",
       "      <th>...</th>\n",
       "      <td>...</td>\n",
       "      <td>...</td>\n",
       "      <td>...</td>\n",
       "    </tr>\n",
       "    <tr>\n",
       "      <th>10912</th>\n",
       "      <td>محمدرضا يزداني خرم در رابطه با جذب «ميلوراد كي...</td>\n",
       "      <td>ورزشي</td>\n",
       "      <td>424</td>\n",
       "    </tr>\n",
       "    <tr>\n",
       "      <th>10543</th>\n",
       "      <td>به گزارش خبرگزاري دانشجويان ايران (ايسنا) در ي...</td>\n",
       "      <td>ورزشي</td>\n",
       "      <td>295</td>\n",
       "    </tr>\n",
       "    <tr>\n",
       "      <th>3786</th>\n",
       "      <td>به گزارش خبرگزاري دانشجويان ايران (ايسنا)، مطا...</td>\n",
       "      <td>بهداشتي</td>\n",
       "      <td>247</td>\n",
       "    </tr>\n",
       "    <tr>\n",
       "      <th>6318</th>\n",
       "      <td>«ابوالفضل شاكري» در گفت‌وگو با خبرنگار سرويس ا...</td>\n",
       "      <td>علمي</td>\n",
       "      <td>340</td>\n",
       "    </tr>\n",
       "    <tr>\n",
       "      <th>6535</th>\n",
       "      <td>به گزارش خبرنگار سرويس ارتباطات خبرگزاري دانشج...</td>\n",
       "      <td>علمي</td>\n",
       "      <td>58</td>\n",
       "    </tr>\n",
       "  </tbody>\n",
       "</table>\n",
       "<p>100 rows × 3 columns</p>\n",
       "</div>"
      ],
      "text/plain": [
       "                                                    text category2  length\n",
       "879    به گزارش سرويس صنفي آموزشي خبرگزاري دانشجويان ...    آموزشي     552\n",
       "5552   به گزارش ايسنا، در مطلبي كه در سايت موسسه سياس...     سياسي     460\n",
       "1695   به گزارش خبرگزاري دانشجويان ايران (ايسنا)، دكت...   اجتماعي     252\n",
       "4221   يك سرطان‌شناس و عضو هيات علمي دانشگاه اعلام كر...   بهداشتي     310\n",
       "5553   در اين نمابر آمده است كه مسؤول انتظامات اين وا...     سياسي     968\n",
       "...                                                  ...       ...     ...\n",
       "10912  محمدرضا يزداني خرم در رابطه با جذب «ميلوراد كي...     ورزشي     424\n",
       "10543  به گزارش خبرگزاري دانشجويان ايران (ايسنا) در ي...     ورزشي     295\n",
       "3786   به گزارش خبرگزاري دانشجويان ايران (ايسنا)، مطا...   بهداشتي     247\n",
       "6318   «ابوالفضل شاكري» در گفت‌وگو با خبرنگار سرويس ا...      علمي     340\n",
       "6535   به گزارش خبرنگار سرويس ارتباطات خبرگزاري دانشج...      علمي      58\n",
       "\n",
       "[100 rows x 3 columns]"
      ]
     },
     "execution_count": 2,
     "metadata": {},
     "output_type": "execute_result"
    }
   ],
   "source": [
    "corpus = hazm.PersicaReader(csv_file=\"../lib/persica.csv\")\n",
    "\n",
    "data_frame = pd.DataFrame(corpus.docs())\n",
    "data_frame = data_frame.sample(frac=1, random_state=313)\n",
    "data_frame = data_frame.filter([\"text\", \"category2\"]).head(n=100)\n",
    "\n",
    "data_frame[\"length\"] = data_frame[\"text\"].apply(lambda text : len(hazm.word_tokenize(text)))\n",
    "\n",
    "data_frame"
   ]
  },
  {
   "cell_type": "markdown",
   "metadata": {},
   "source": [
    "### Analyse\n",
    "\n",
    "In this section, we are going to visualize the data and analyse and compute some useful parameters that will be used in the `Cleaning` and `Transformation` steps."
   ]
  },
  {
   "cell_type": "code",
   "execution_count": 3,
   "metadata": {},
   "outputs": [
    {
     "name": "stdout",
     "output_type": "stream",
     "text": [
      "Minimum sentence length: 17\n",
      "Maximum sentence length: 3235\n"
     ]
    }
   ],
   "source": [
    "min_length = data_frame[\"length\"].min()\n",
    "max_length = data_frame[\"length\"].max()\n",
    "\n",
    "print(f\"Minimum sentence length: {min_length}\")\n",
    "print(f\"Maximum sentence length: {max_length}\")"
   ]
  },
  {
   "cell_type": "code",
   "execution_count": 4,
   "metadata": {},
   "outputs": [
    {
     "data": {
      "image/png": "[encoded data removed]",
      "text/plain": [
       "<Figure size 1600x800 with 1 Axes>"
      ]
     },
     "metadata": {
      "needs_background": "light"
     },
     "output_type": "display_data"
    }
   ],
   "source": [
    "df = pd.Series(data_frame[\"category2\"].value_counts())\n",
    "\n",
    "plt.figure(figsize=(8, 4), dpi=200)\n",
    "plt.bar(range(len(df)), df.values, align='center')\n",
    "plt.xticks(range(len(df)), df.index.values, size='small')\n",
    "plt.xlabel(\"Category\")\n",
    "plt.ylabel(\"Frequency\")\n",
    "plt.title(\"Categories Frequnecy\")\n",
    "plt.show()"
   ]
  },
  {
   "cell_type": "markdown",
   "metadata": {},
   "source": [
    "---"
   ]
  },
  {
   "cell_type": "markdown",
   "metadata": {},
   "source": [
    "## Preprocessing"
   ]
  },
  {
   "cell_type": "code",
   "execution_count": 5,
   "metadata": {},
   "outputs": [],
   "source": [
    "stemmer = hazm.Stemmer()\n",
    "normalizer = hazm.Normalizer()\n",
    "lemmatizer = hazm.Lemmatizer()\n",
    "stop_words = hazm.stopwords_list(\"../lib/PersianStopWords.txt\")\n",
    "\n",
    "data_frame[\"text\"] = data_frame[\"text\"].apply(lambda text : \" \".join([\n",
    "    lemmatizer.lemmatize(normalizer.normalize(stemmer.stem(word)))\n",
    "    for word in hazm.word_tokenize(text)\n",
    "    if word not in stop_words\n",
    "]))"
   ]
  },
  {
   "cell_type": "code",
   "execution_count": 6,
   "metadata": {},
   "outputs": [],
   "source": [
    "labels = list(sorted(data_frame[\"category2\"].unique()))\n",
    "\n",
    "data_frame[\"label\"] = data_frame[\"category2\"].apply(lambda category: labels.index(category))"
   ]
  },
  {
   "cell_type": "code",
   "execution_count": 7,
   "metadata": {},
   "outputs": [],
   "source": [
    "from datasets import Dataset\n",
    "from transformers import AutoTokenizer\n",
    "\n",
    "tokenizer = AutoTokenizer.from_pretrained(\"HooshvareLab/bert-fa-base-uncased\")\n",
    "\n",
    "dataset = Dataset.from_pandas(data_frame).map(\n",
    "    lambda x: tokenizer(x[\"text\"], truncation=True, padding=True, max_length=512),\n",
    "    batched=True\n",
    ")"
   ]
  },
  {
   "cell_type": "markdown",
   "metadata": {},
   "source": [
    "---"
   ]
  },
  {
   "cell_type": "markdown",
   "metadata": {},
   "source": [
    "## Splitting"
   ]
  },
  {
   "cell_type": "code",
   "execution_count": 37,
   "metadata": {},
   "outputs": [],
   "source": [
    "datasets = dataset.train_test_split(0.2)\n",
    "\n",
    "train_set = datasets[\"train\"].to_tf_dataset(\n",
    "    columns=[\"attention_mask\", \"input_ids\", \"token_type_ids\"],\n",
    "    label_cols=[\"label\"],\n",
    "    batch_size=128,\n",
    ")\n",
    "\n",
    "test_set = datasets[\"test\"].to_tf_dataset(\n",
    "    columns=[\"attention_mask\", \"input_ids\", \"token_type_ids\"],\n",
    "    label_cols=[\"label\"],\n",
    "    batch_size=128,\n",
    ")"
   ]
  },
  {
   "cell_type": "markdown",
   "metadata": {},
   "source": [
    "---"
   ]
  },
  {
   "cell_type": "markdown",
   "metadata": {},
   "source": [
    "## Training"
   ]
  },
  {
   "cell_type": "code",
   "execution_count": 16,
   "metadata": {},
   "outputs": [
    {
     "name": "stderr",
     "output_type": "stream",
     "text": [
      "All model checkpoint layers were used when initializing TFBertForSequenceClassification.\n",
      "\n",
      "Some layers of TFBertForSequenceClassification were not initialized from the model checkpoint at HooshvareLab/bert-fa-base-uncased and are newly initialized: ['classifier']\n",
      "You should probably TRAIN this model on a down-stream task to be able to use it for predictions and inference.\n"
     ]
    }
   ],
   "source": [
    "from transformers import TFAutoModelForSequenceClassification\n",
    "\n",
    "model = TFAutoModelForSequenceClassification.from_pretrained(\"HooshvareLab/bert-fa-base-uncased\", num_labels=len(labels))\n",
    "\n",
    "model.compile(\n",
    "    optimizer=tf.keras.optimizers.Adam(learning_rate=1e-5),\n",
    "    loss=tf.keras.losses.SparseCategoricalCrossentropy(from_logits=True),\n",
    "    metrics=[\"accuracy\"],\n",
    ")"
   ]
  },
  {
   "cell_type": "code",
   "execution_count": 38,
   "metadata": {},
   "outputs": [
    {
     "name": "stdout",
     "output_type": "stream",
     "text": [
      "Epoch 1/10\n",
      " 1/10 [==>...........................] - ETA: 26:15 - loss: 2.6528 - accuracy: 0.0000e+00"
     ]
    }
   ],
   "source": [
    "history = model.fit(train_set, epochs=10)\n",
    "\n",
    "plt.plot(history.history[\"accuracy\"])\n",
    "plt.show()"
   ]
  },
  {
   "cell_type": "markdown",
   "metadata": {},
   "source": [
    "---"
   ]
  },
  {
   "cell_type": "markdown",
   "metadata": {},
   "source": [
    "## Testing"
   ]
  },
  {
   "cell_type": "code",
   "execution_count": 1,
   "metadata": {},
   "outputs": [
    {
     "ename": "NameError",
     "evalue": "name 'model' is not defined",
     "output_type": "error",
     "traceback": [
      "\u001b[1;31m---------------------------------------------------------------------------\u001b[0m",
      "\u001b[1;31mNameError\u001b[0m                                 Traceback (most recent call last)",
      "\u001b[1;32mc:\\Users\\KoLiBer\\Documents\\Workspace\\nlpexercises\\src\\exercise5.ipynb Cell 25'\u001b[0m in \u001b[0;36m<cell line: 1>\u001b[1;34m()\u001b[0m\n\u001b[1;32m----> <a href='vscode-notebook-cell:/c%3A/Users/KoLiBer/Documents/Workspace/nlpexercises/src/exercise5.ipynb#ch0000026?line=0'>1</a>\u001b[0m result \u001b[39m=\u001b[39m model\u001b[39m.\u001b[39maccuracy(test_set)\n\u001b[0;32m      <a href='vscode-notebook-cell:/c%3A/Users/KoLiBer/Documents/Workspace/nlpexercises/src/exercise5.ipynb#ch0000026?line=2'>3</a>\u001b[0m \u001b[39mprint\u001b[39m(result)\n",
      "\u001b[1;31mNameError\u001b[0m: name 'model' is not defined"
     ]
    }
   ],
   "source": [
    "result = model.accuracy(test_set)\n",
    "\n",
    "print(result)"
   ]
  },
  {
   "cell_type": "markdown",
   "metadata": {},
   "source": [
    "---"
   ]
  }
 ],
 "metadata": {
  "interpreter": {
   "hash": "9278c29f1c5526d5663cab0214876a9a1ad235f0a8fdeebad627cd7666833d94"
  },
  "kernelspec": {
   "display_name": "Python 3.8.0 ('.venv': poetry)",
   "language": "python",
   "name": "python3"
  },
  "language_info": {
   "codemirror_mode": {
    "name": "ipython",
    "version": 3
   },
   "file_extension": ".py",
   "mimetype": "text/x-python",
   "name": "python",
   "nbconvert_exporter": "python",
   "pygments_lexer": "ipython3",
   "version": "3.8.0"
  },
  "orig_nbformat": 4
 },
 "nbformat": 4,
 "nbformat_minor": 2
}
