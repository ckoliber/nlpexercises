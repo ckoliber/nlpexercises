{
  "cells": [
    {
      "cell_type": "markdown",
      "metadata": {
        "id": "YKjxJKf3vtrb"
      },
      "source": [
        "# NLP Answers\n",
        "\n",
        "- **Answer Set**: No. 05\n",
        "- **Full Name**: Mohammad Hosein Nemati\n",
        "- **Student Code**: `610300185`"
      ]
    },
    {
      "cell_type": "markdown",
      "metadata": {
        "id": "NokCmrCkvtrk"
      },
      "source": [
        "---"
      ]
    },
    {
      "cell_type": "markdown",
      "metadata": {
        "id": "nCrlSoh4vtrl"
      },
      "source": [
        "## Introduction\n",
        "\n",
        "In this problem, we are going to use **ParsBERT** pre-trained model for **Sequence Classification** task on **Persica** dataset.  \n",
        "Then we will compare the reported metrics to previously trained models in `exercise 4`\n",
        "\n",
        "In the first step, we will import some useful libraries."
      ]
    },
    {
      "cell_type": "code",
      "execution_count": 25,
      "metadata": {
        "id": "8d1e4ab7"
      },
      "outputs": [],
      "source": [
        "import warnings\n",
        "\n",
        "import math as math\n",
        "import hazm as hazm\n",
        "\n",
        "import numpy as np\n",
        "import pandas as pd\n",
        "import tensorflow as tf\n",
        "import matplotlib.pyplot as plt\n",
        "\n",
        "warnings.filterwarnings(\"ignore\", category=UserWarning)"
      ]
    },
    {
      "cell_type": "markdown",
      "metadata": {
        "id": "6595aa20"
      },
      "source": [
        "---"
      ]
    },
    {
      "cell_type": "markdown",
      "metadata": {
        "id": "f4ed694d"
      },
      "source": [
        "## Loading\n",
        "\n",
        "First of all, we must load the **Persica** dataset and then shuffle the records."
      ]
    },
    {
      "cell_type": "code",
      "execution_count": 26,
      "metadata": {
        "id": "paMlIDu6vtrr",
        "outputId": "f8f8ab33-b72b-494d-f482-201ada2b757d",
        "colab": {
          "base_uri": "https://localhost:8080/",
          "height": 419
        }
      },
      "outputs": [
        {
          "output_type": "execute_result",
          "data": {
            "text/plain": [
              "                                                    text category2  length\n",
              "879    به گزارش سرويس صنفي آموزشي خبرگزاري دانشجويان ...    آموزشي     552\n",
              "5552   به گزارش ايسنا، در مطلبي كه در سايت موسسه سياس...     سياسي     460\n",
              "1695   به گزارش خبرگزاري دانشجويان ايران (ايسنا)، دكت...   اجتماعي     252\n",
              "4221   يك سرطان‌شناس و عضو هيات علمي دانشگاه اعلام كر...   بهداشتي     310\n",
              "5553   در اين نمابر آمده است كه مسؤول انتظامات اين وا...     سياسي     968\n",
              "...                                                  ...       ...     ...\n",
              "10137  به گزارش خبرگزاري دانشجويان ايران (ايسنا)، اين...     ورزشي     273\n",
              "6183   به گزارش خبرگزاري دانشجويان ايران (ايسنا)، روز...     سياسي      75\n",
              "9175   معاون پشتيباني سازمان آموزش و پرورش خراسان رضو...     مذهبي     522\n",
              "6570   سرپرست معاونت فني دبير خانه‌ي شوراي عالي اطلاع...      علمي     237\n",
              "3592   به گزارش سرويس «بهداشت و درمان» خبرگزاري دانشج...   بهداشتي      80\n",
              "\n",
              "[10999 rows x 3 columns]"
            ],
            "text/html": [
              "\n",
              "  <div id=\"df-295ac382-7214-483a-ac64-889bdd254580\">\n",
              "    <div class=\"colab-df-container\">\n",
              "      <div>\n",
              "<style scoped>\n",
              "    .dataframe tbody tr th:only-of-type {\n",
              "        vertical-align: middle;\n",
              "    }\n",
              "\n",
              "    .dataframe tbody tr th {\n",
              "        vertical-align: top;\n",
              "    }\n",
              "\n",
              "    .dataframe thead th {\n",
              "        text-align: right;\n",
              "    }\n",
              "</style>\n",
              "<table border=\"1\" class=\"dataframe\">\n",
              "  <thead>\n",
              "    <tr style=\"text-align: right;\">\n",
              "      <th></th>\n",
              "      <th>text</th>\n",
              "      <th>category2</th>\n",
              "      <th>length</th>\n",
              "    </tr>\n",
              "  </thead>\n",
              "  <tbody>\n",
              "    <tr>\n",
              "      <th>879</th>\n",
              "      <td>به گزارش سرويس صنفي آموزشي خبرگزاري دانشجويان ...</td>\n",
              "      <td>آموزشي</td>\n",
              "      <td>552</td>\n",
              "    </tr>\n",
              "    <tr>\n",
              "      <th>5552</th>\n",
              "      <td>به گزارش ايسنا، در مطلبي كه در سايت موسسه سياس...</td>\n",
              "      <td>سياسي</td>\n",
              "      <td>460</td>\n",
              "    </tr>\n",
              "    <tr>\n",
              "      <th>1695</th>\n",
              "      <td>به گزارش خبرگزاري دانشجويان ايران (ايسنا)، دكت...</td>\n",
              "      <td>اجتماعي</td>\n",
              "      <td>252</td>\n",
              "    </tr>\n",
              "    <tr>\n",
              "      <th>4221</th>\n",
              "      <td>يك سرطان‌شناس و عضو هيات علمي دانشگاه اعلام كر...</td>\n",
              "      <td>بهداشتي</td>\n",
              "      <td>310</td>\n",
              "    </tr>\n",
              "    <tr>\n",
              "      <th>5553</th>\n",
              "      <td>در اين نمابر آمده است كه مسؤول انتظامات اين وا...</td>\n",
              "      <td>سياسي</td>\n",
              "      <td>968</td>\n",
              "    </tr>\n",
              "    <tr>\n",
              "      <th>...</th>\n",
              "      <td>...</td>\n",
              "      <td>...</td>\n",
              "      <td>...</td>\n",
              "    </tr>\n",
              "    <tr>\n",
              "      <th>10137</th>\n",
              "      <td>به گزارش خبرگزاري دانشجويان ايران (ايسنا)، اين...</td>\n",
              "      <td>ورزشي</td>\n",
              "      <td>273</td>\n",
              "    </tr>\n",
              "    <tr>\n",
              "      <th>6183</th>\n",
              "      <td>به گزارش خبرگزاري دانشجويان ايران (ايسنا)، روز...</td>\n",
              "      <td>سياسي</td>\n",
              "      <td>75</td>\n",
              "    </tr>\n",
              "    <tr>\n",
              "      <th>9175</th>\n",
              "      <td>معاون پشتيباني سازمان آموزش و پرورش خراسان رضو...</td>\n",
              "      <td>مذهبي</td>\n",
              "      <td>522</td>\n",
              "    </tr>\n",
              "    <tr>\n",
              "      <th>6570</th>\n",
              "      <td>سرپرست معاونت فني دبير خانه‌ي شوراي عالي اطلاع...</td>\n",
              "      <td>علمي</td>\n",
              "      <td>237</td>\n",
              "    </tr>\n",
              "    <tr>\n",
              "      <th>3592</th>\n",
              "      <td>به گزارش سرويس «بهداشت و درمان» خبرگزاري دانشج...</td>\n",
              "      <td>بهداشتي</td>\n",
              "      <td>80</td>\n",
              "    </tr>\n",
              "  </tbody>\n",
              "</table>\n",
              "<p>10999 rows × 3 columns</p>\n",
              "</div>\n",
              "      <button class=\"colab-df-convert\" onclick=\"convertToInteractive('df-295ac382-7214-483a-ac64-889bdd254580')\"\n",
              "              title=\"Convert this dataframe to an interactive table.\"\n",
              "              style=\"display:none;\">\n",
              "        \n",
              "  <svg xmlns=\"http://www.w3.org/2000/svg\" height=\"24px\"viewBox=\"0 0 24 24\"\n",
              "       width=\"24px\">\n",
              "    <path d=\"M0 0h24v24H0V0z\" fill=\"none\"/>\n",
              "    <path d=\"M18.56 5.44l.94 2.06.94-2.06 2.06-.94-2.06-.94-.94-2.06-.94 2.06-2.06.94zm-11 1L8.5 8.5l.94-2.06 2.06-.94-2.06-.94L8.5 2.5l-.94 2.06-2.06.94zm10 10l.94 2.06.94-2.06 2.06-.94-2.06-.94-.94-2.06-.94 2.06-2.06.94z\"/><path d=\"M17.41 7.96l-1.37-1.37c-.4-.4-.92-.59-1.43-.59-.52 0-1.04.2-1.43.59L10.3 9.45l-7.72 7.72c-.78.78-.78 2.05 0 2.83L4 21.41c.39.39.9.59 1.41.59.51 0 1.02-.2 1.41-.59l7.78-7.78 2.81-2.81c.8-.78.8-2.07 0-2.86zM5.41 20L4 18.59l7.72-7.72 1.47 1.35L5.41 20z\"/>\n",
              "  </svg>\n",
              "      </button>\n",
              "      \n",
              "  <style>\n",
              "    .colab-df-container {\n",
              "      display:flex;\n",
              "      flex-wrap:wrap;\n",
              "      gap: 12px;\n",
              "    }\n",
              "\n",
              "    .colab-df-convert {\n",
              "      background-color: #E8F0FE;\n",
              "      border: none;\n",
              "      border-radius: 50%;\n",
              "      cursor: pointer;\n",
              "      display: none;\n",
              "      fill: #1967D2;\n",
              "      height: 32px;\n",
              "      padding: 0 0 0 0;\n",
              "      width: 32px;\n",
              "    }\n",
              "\n",
              "    .colab-df-convert:hover {\n",
              "      background-color: #E2EBFA;\n",
              "      box-shadow: 0px 1px 2px rgba(60, 64, 67, 0.3), 0px 1px 3px 1px rgba(60, 64, 67, 0.15);\n",
              "      fill: #174EA6;\n",
              "    }\n",
              "\n",
              "    [theme=dark] .colab-df-convert {\n",
              "      background-color: #3B4455;\n",
              "      fill: #D2E3FC;\n",
              "    }\n",
              "\n",
              "    [theme=dark] .colab-df-convert:hover {\n",
              "      background-color: #434B5C;\n",
              "      box-shadow: 0px 1px 3px 1px rgba(0, 0, 0, 0.15);\n",
              "      filter: drop-shadow(0px 1px 2px rgba(0, 0, 0, 0.3));\n",
              "      fill: #FFFFFF;\n",
              "    }\n",
              "  </style>\n",
              "\n",
              "      <script>\n",
              "        const buttonEl =\n",
              "          document.querySelector('#df-295ac382-7214-483a-ac64-889bdd254580 button.colab-df-convert');\n",
              "        buttonEl.style.display =\n",
              "          google.colab.kernel.accessAllowed ? 'block' : 'none';\n",
              "\n",
              "        async function convertToInteractive(key) {\n",
              "          const element = document.querySelector('#df-295ac382-7214-483a-ac64-889bdd254580');\n",
              "          const dataTable =\n",
              "            await google.colab.kernel.invokeFunction('convertToInteractive',\n",
              "                                                     [key], {});\n",
              "          if (!dataTable) return;\n",
              "\n",
              "          const docLinkHtml = 'Like what you see? Visit the ' +\n",
              "            '<a target=\"_blank\" href=https://colab.research.google.com/notebooks/data_table.ipynb>data table notebook</a>'\n",
              "            + ' to learn more about interactive tables.';\n",
              "          element.innerHTML = '';\n",
              "          dataTable['output_type'] = 'display_data';\n",
              "          await google.colab.output.renderOutput(dataTable, element);\n",
              "          const docLink = document.createElement('div');\n",
              "          docLink.innerHTML = docLinkHtml;\n",
              "          element.appendChild(docLink);\n",
              "        }\n",
              "      </script>\n",
              "    </div>\n",
              "  </div>\n",
              "  "
            ]
          },
          "metadata": {},
          "execution_count": 26
        }
      ],
      "source": [
        "corpus = hazm.PersicaReader(csv_file=\"./drive/MyDrive/persica.csv\")\n",
        "\n",
        "data_frame = pd.DataFrame(corpus.docs())\n",
        "data_frame = data_frame.sample(frac=1, random_state=313)\n",
        "data_frame = data_frame.filter([\"text\", \"category2\"])\n",
        "\n",
        "data_frame[\"length\"] = data_frame[\"text\"].apply(lambda text : len(hazm.word_tokenize(text)))\n",
        "\n",
        "data_frame"
      ]
    },
    {
      "cell_type": "markdown",
      "metadata": {
        "id": "8QVqnTf_vtrt"
      },
      "source": [
        "### Analyse\n",
        "\n",
        "In this section, we are going to visualize the data and analyse and compute some useful parameters that will be used in the `Cleaning` and `Transformation` steps."
      ]
    },
    {
      "cell_type": "code",
      "execution_count": 27,
      "metadata": {
        "id": "VOYyAF3Jvtru",
        "outputId": "21d181fd-56a9-4993-ba72-5690c99d85f5",
        "colab": {
          "base_uri": "https://localhost:8080/",
          "height": 0
        }
      },
      "outputs": [
        {
          "output_type": "stream",
          "name": "stdout",
          "text": [
            "Minimum sentence length: 0\n",
            "Maximum sentence length: 6686\n"
          ]
        }
      ],
      "source": [
        "min_length = data_frame[\"length\"].min()\n",
        "max_length = data_frame[\"length\"].max()\n",
        "\n",
        "print(f\"Minimum sentence length: {min_length}\")\n",
        "print(f\"Maximum sentence length: {max_length}\")"
      ]
    },
    {
      "cell_type": "code",
      "execution_count": 28,
      "metadata": {
        "id": "BMF5sD14vtrv",
        "outputId": "2e63556b-c635-430f-c30a-ee6b340b2a52",
        "colab": {
          "base_uri": "https://localhost:8080/",
          "height": 534
        }
      },
      "outputs": [
        {
          "output_type": "display_data",
          "data": {
            "text/plain": [
              "<Figure size 1600x800 with 1 Axes>"
            ],
            "image/png": "[encoded data removed]"
          },
          "metadata": {
            "needs_background": "light"
          }
        }
      ],
      "source": [
        "df = pd.Series(data_frame[\"category2\"].value_counts())\n",
        "\n",
        "plt.figure(figsize=(8, 4), dpi=200)\n",
        "plt.bar(range(len(df)), df.values, align='center')\n",
        "plt.xticks(range(len(df)), df.index.values, size='small')\n",
        "plt.xlabel(\"Category\")\n",
        "plt.ylabel(\"Frequency\")\n",
        "plt.title(\"Categories Frequnecy\")\n",
        "plt.show()"
      ]
    },
    {
      "cell_type": "markdown",
      "metadata": {
        "id": "rI2REVIevtrv"
      },
      "source": [
        "---"
      ]
    },
    {
      "cell_type": "markdown",
      "metadata": {
        "id": "UHBfyoFSvtrw"
      },
      "source": [
        "## Preprocessing"
      ]
    },
    {
      "cell_type": "code",
      "execution_count": 29,
      "metadata": {
        "id": "E69xhGPevtrw"
      },
      "outputs": [],
      "source": [
        "stemmer = hazm.Stemmer()\n",
        "normalizer = hazm.Normalizer()\n",
        "lemmatizer = hazm.Lemmatizer()\n",
        "stop_words = hazm.stopwords_list()\n",
        "\n",
        "data_frame[\"text\"] = data_frame[\"text\"].apply(lambda text : \" \".join([\n",
        "    lemmatizer.lemmatize(normalizer.normalize(stemmer.stem(word)))\n",
        "    for word in hazm.word_tokenize(text)\n",
        "    if word not in stop_words\n",
        "]))"
      ]
    },
    {
      "cell_type": "code",
      "execution_count": 30,
      "metadata": {
        "id": "aG7Q131wvtrx"
      },
      "outputs": [],
      "source": [
        "labels = list(sorted(data_frame[\"category2\"].unique()))\n",
        "\n",
        "data_frame[\"label\"] = data_frame[\"category2\"].apply(lambda category: labels.index(category))"
      ]
    },
    {
      "cell_type": "code",
      "execution_count": 31,
      "metadata": {
        "id": "CCLeJHAsvtrx",
        "outputId": "384e2b1e-1d46-4b6c-cd60-68ff92d34e94",
        "colab": {
          "base_uri": "https://localhost:8080/",
          "height": 49,
          "referenced_widgets": [
            "2103d65d35f64f95b17b365fa5bf4bc5",
            "c2bb4caf60a04bf793a5443f5670fba5",
            "1d3ebb94f8b3445599bd382037c6e174",
            "eac84edf1b524e939935cdcf3f2eb59d",
            "45a644864e214afebeb1819211ca944f",
            "a055e3e6031f45b387c2f4641357f88b",
            "1c1a7a0e9b5b4be4bab7e31454e255f9",
            "121c524c87d94a30b6f3ab670cb6b8ab",
            "4e5ce6fd5e0041f1a7291087e00ba2e9",
            "2eb1779545db4a80907ef9f475a66fd3",
            "7bcfbf0157a3452784d1a5781a8e9db9"
          ]
        }
      },
      "outputs": [
        {
          "output_type": "display_data",
          "data": {
            "text/plain": [
              "  0%|          | 0/11 [00:00<?, ?ba/s]"
            ],
            "application/vnd.jupyter.widget-view+json": {
              "version_major": 2,
              "version_minor": 0,
              "model_id": "2103d65d35f64f95b17b365fa5bf4bc5"
            }
          },
          "metadata": {}
        }
      ],
      "source": [
        "from datasets import Dataset\n",
        "from transformers import AutoTokenizer\n",
        "\n",
        "tokenizer = AutoTokenizer.from_pretrained(\"HooshvareLab/bert-fa-base-uncased\")\n",
        "\n",
        "dataset = Dataset.from_pandas(data_frame).map(\n",
        "    lambda x: tokenizer(x[\"text\"], truncation=True, padding=True, max_length=512),\n",
        "    batched=True\n",
        ")"
      ]
    },
    {
      "cell_type": "markdown",
      "metadata": {
        "id": "cowVS3e5vtry"
      },
      "source": [
        "---"
      ]
    },
    {
      "cell_type": "markdown",
      "metadata": {
        "id": "6-8nVpIzvtrz"
      },
      "source": [
        "## Splitting"
      ]
    },
    {
      "cell_type": "code",
      "execution_count": 32,
      "metadata": {
        "id": "fS1yFaQovtrz"
      },
      "outputs": [],
      "source": [
        "datasets = dataset.train_test_split(0.2)\n",
        "\n",
        "train_set = datasets[\"train\"].to_tf_dataset(\n",
        "    columns=[\"attention_mask\", \"input_ids\", \"token_type_ids\"],\n",
        "    label_cols=[\"label\"],\n",
        "    batch_size=8,\n",
        ")\n",
        "\n",
        "test_set = datasets[\"test\"].to_tf_dataset(\n",
        "    columns=[\"attention_mask\", \"input_ids\", \"token_type_ids\"],\n",
        "    label_cols=[\"label\"],\n",
        "    batch_size=8,\n",
        ")"
      ]
    },
    {
      "cell_type": "markdown",
      "metadata": {
        "id": "PxFUHAU6vtr0"
      },
      "source": [
        "---"
      ]
    },
    {
      "cell_type": "markdown",
      "metadata": {
        "id": "qZjZe48zvtr1"
      },
      "source": [
        "## Training"
      ]
    },
    {
      "cell_type": "code",
      "execution_count": 33,
      "metadata": {
        "id": "J7VFKYmOvtr1",
        "outputId": "64a5220e-3c21-4ed3-c372-0c9fcf134b6e",
        "colab": {
          "base_uri": "https://localhost:8080/",
          "height": 0
        }
      },
      "outputs": [
        {
          "output_type": "stream",
          "name": "stderr",
          "text": [
            "All model checkpoint layers were used when initializing TFBertForSequenceClassification.\n",
            "\n",
            "Some layers of TFBertForSequenceClassification were not initialized from the model checkpoint at HooshvareLab/bert-fa-base-uncased and are newly initialized: ['classifier']\n",
            "You should probably TRAIN this model on a down-stream task to be able to use it for predictions and inference.\n"
          ]
        }
      ],
      "source": [
        "from transformers import TFAutoModelForSequenceClassification\n",
        "\n",
        "model = TFAutoModelForSequenceClassification.from_pretrained(\"HooshvareLab/bert-fa-base-uncased\", num_labels=len(labels))\n",
        "\n",
        "model.compile(\n",
        "    optimizer=tf.keras.optimizers.Adam(learning_rate=1e-5),\n",
        "    loss=tf.keras.losses.SparseCategoricalCrossentropy(from_logits=True),\n",
        "    metrics=[\"accuracy\"],\n",
        ")"
      ]
    },
    {
      "cell_type": "code",
      "execution_count": 34,
      "metadata": {
        "id": "mUdATQ7rvtr1",
        "outputId": "1f0b0221-612f-4918-f967-721da3134176",
        "colab": {
          "base_uri": "https://localhost:8080/",
          "height": 0
        }
      },
      "outputs": [
        {
          "output_type": "stream",
          "name": "stdout",
          "text": [
            "Epoch 1/4\n",
            "1100/1100 [==============================] - 1132s 1s/step - loss: 0.7946 - accuracy: 0.7883\n",
            "Epoch 2/4\n",
            "1100/1100 [==============================] - 1127s 1s/step - loss: 0.2830 - accuracy: 0.9215\n",
            "Epoch 3/4\n",
            "1100/1100 [==============================] - 1127s 1s/step - loss: 0.1694 - accuracy: 0.9545\n",
            "Epoch 4/4\n",
            "1100/1100 [==============================] - 1126s 1s/step - loss: 0.1043 - accuracy: 0.9723\n"
          ]
        },
        {
          "output_type": "execute_result",
          "data": {
            "text/plain": [
              "<keras.callbacks.History at 0x7fc5d461b550>"
            ]
          },
          "metadata": {},
          "execution_count": 34
        }
      ],
      "source": [
        "model.fit(train_set, epochs=4)"
      ]
    },
    {
      "cell_type": "markdown",
      "metadata": {
        "id": "PO7tU1Xwvtr2"
      },
      "source": [
        "---"
      ]
    },
    {
      "cell_type": "markdown",
      "metadata": {
        "id": "_IVeWlHPvtr2"
      },
      "source": [
        "## Testing"
      ]
    },
    {
      "cell_type": "code",
      "execution_count": 35,
      "metadata": {
        "id": "SchKxEX3vtr2",
        "outputId": "7e58b0e0-c21c-4d46-d9e4-ac4d64122129",
        "colab": {
          "base_uri": "https://localhost:8080/",
          "height": 0
        }
      },
      "outputs": [
        {
          "output_type": "stream",
          "name": "stdout",
          "text": [
            "275/275 [==============================] - 100s 351ms/step - loss: 0.4431 - accuracy: 0.8918\n",
            "[0.4431058466434479, 0.8918181657791138]\n"
          ]
        }
      ],
      "source": [
        "result = model.evaluate(test_set)\n",
        "\n",
        "print(result)"
      ]
    },
    {
      "cell_type": "code",
      "execution_count": 36,
      "metadata": {
        "id": "r6nHoi28vtr3",
        "outputId": "da902352-5899-4edc-c3eb-f699656d1c10",
        "colab": {
          "base_uri": "https://localhost:8080/",
          "height": 132
        }
      },
      "outputs": [
        {
          "output_type": "display_data",
          "data": {
            "text/plain": [
              "<Figure size 1600x200 with 1 Axes>"
            ],
            "image/png": "[encoded data removed]"
          },
          "metadata": {
            "needs_background": "light"
          }
        }
      ],
      "source": [
        "plt.figure(figsize=(8, 1), dpi=200)\n",
        "table = plt.table(cellText=[\n",
        "    [\n",
        "        \"SVM\",\n",
        "        \"0.83\",\n",
        "        \"0.83\",\n",
        "        \"0.83\",\n",
        "        \"0.83\"\n",
        "    ],\n",
        "    [\n",
        "        \"Decision Tree\",\n",
        "        \"0.61\",\n",
        "        \"0.61\",\n",
        "        \"0.61\",\n",
        "        \"0.61\",\n",
        "    ],\n",
        "    [\n",
        "        \"Random Forest\",\n",
        "        \"0.79\",\n",
        "        \"0.81\",\n",
        "        \"0.79\",\n",
        "        \"0.81\",\n",
        "    ],\n",
        "], colLabels=[\"Method\", \"Accuracy\", \"Precision\", \"Recall\", \"F1\"], loc=\"center\")\n",
        "table.auto_set_font_size(False)\n",
        "table.set_fontsize(11)\n",
        "table.scale(2, 2)\n",
        "plt.axis(\"off\")\n",
        "plt.show()"
      ]
    },
    {
      "cell_type": "markdown",
      "metadata": {
        "id": "4mCfAcKlvtr3"
      },
      "source": [
        "As we can see, the **Pars BERT** pre-trained model returend much better accuracy after fine-tuning."
      ]
    },
    {
      "cell_type": "markdown",
      "metadata": {
        "id": "QU3mpEmlvtr3"
      },
      "source": [
        "---"
      ]
    }
  ],
  "metadata": {
    "interpreter": {
      "hash": "9278c29f1c5526d5663cab0214876a9a1ad235f0a8fdeebad627cd7666833d94"
    },
    "kernelspec": {
      "display_name": "Python 3.8.0 ('.venv': poetry)",
      "language": "python",
      "name": "python3"
    },
    "language_info": {
      "codemirror_mode": {
        "name": "ipython",
        "version": 3
      },
      "file_extension": ".py",
      "mimetype": "text/x-python",
      "name": "python",
      "nbconvert_exporter": "python",
      "pygments_lexer": "ipython3",
      "version": "3.8.0"
    },
    "orig_nbformat": 4,
    "colab": {
      "name": "exercise5.ipynb",
      "provenance": []
    },
    "accelerator": "GPU",
    "gpuClass": "standard",
    "widgets": {
      "application/vnd.jupyter.widget-state+json": {
        "2103d65d35f64f95b17b365fa5bf4bc5": {
          "model_module": "@jupyter-widgets/controls",
          "model_name": "HBoxModel",
          "model_module_version": "1.5.0",
          "state": {
            "_dom_classes": [],
            "_model_module": "@jupyter-widgets/controls",
            "_model_module_version": "1.5.0",
            "_model_name": "HBoxModel",
            "_view_count": null,
            "_view_module": "@jupyter-widgets/controls",
            "_view_module_version": "1.5.0",
            "_view_name": "HBoxView",
            "box_style": "",
            "children": [
              "IPY_MODEL_c2bb4caf60a04bf793a5443f5670fba5",
              "IPY_MODEL_1d3ebb94f8b3445599bd382037c6e174",
              "IPY_MODEL_eac84edf1b524e939935cdcf3f2eb59d"
            ],
            "layout": "IPY_MODEL_45a644864e214afebeb1819211ca944f"
          }
        },
        "c2bb4caf60a04bf793a5443f5670fba5": {
          "model_module": "@jupyter-widgets/controls",
          "model_name": "HTMLModel",
          "model_module_version": "1.5.0",
          "state": {
            "_dom_classes": [],
            "_model_module": "@jupyter-widgets/controls",
            "_model_module_version": "1.5.0",
            "_model_name": "HTMLModel",
            "_view_count": null,
            "_view_module": "@jupyter-widgets/controls",
            "_view_module_version": "1.5.0",
            "_view_name": "HTMLView",
            "description": "",
            "description_tooltip": null,
            "layout": "IPY_MODEL_a055e3e6031f45b387c2f4641357f88b",
            "placeholder": "​",
            "style": "IPY_MODEL_1c1a7a0e9b5b4be4bab7e31454e255f9",
            "value": "100%"
          }
        },
        "1d3ebb94f8b3445599bd382037c6e174": {
          "model_module": "@jupyter-widgets/controls",
          "model_name": "FloatProgressModel",
          "model_module_version": "1.5.0",
          "state": {
            "_dom_classes": [],
            "_model_module": "@jupyter-widgets/controls",
            "_model_module_version": "1.5.0",
            "_model_name": "FloatProgressModel",
            "_view_count": null,
            "_view_module": "@jupyter-widgets/controls",
            "_view_module_version": "1.5.0",
            "_view_name": "ProgressView",
            "bar_style": "success",
            "description": "",
            "description_tooltip": null,
            "layout": "IPY_MODEL_121c524c87d94a30b6f3ab670cb6b8ab",
            "max": 11,
            "min": 0,
            "orientation": "horizontal",
            "style": "IPY_MODEL_4e5ce6fd5e0041f1a7291087e00ba2e9",
            "value": 11
          }
        },
        "eac84edf1b524e939935cdcf3f2eb59d": {
          "model_module": "@jupyter-widgets/controls",
          "model_name": "HTMLModel",
          "model_module_version": "1.5.0",
          "state": {
            "_dom_classes": [],
            "_model_module": "@jupyter-widgets/controls",
            "_model_module_version": "1.5.0",
            "_model_name": "HTMLModel",
            "_view_count": null,
            "_view_module": "@jupyter-widgets/controls",
            "_view_module_version": "1.5.0",
            "_view_name": "HTMLView",
            "description": "",
            "description_tooltip": null,
            "layout": "IPY_MODEL_2eb1779545db4a80907ef9f475a66fd3",
            "placeholder": "​",
            "style": "IPY_MODEL_7bcfbf0157a3452784d1a5781a8e9db9",
            "value": " 11/11 [00:14&lt;00:00,  1.25s/ba]"
          }
        },
        "45a644864e214afebeb1819211ca944f": {
          "model_module": "@jupyter-widgets/base",
          "model_name": "LayoutModel",
          "model_module_version": "1.2.0",
          "state": {
            "_model_module": "@jupyter-widgets/base",
            "_model_module_version": "1.2.0",
            "_model_name": "LayoutModel",
            "_view_count": null,
            "_view_module": "@jupyter-widgets/base",
            "_view_module_version": "1.2.0",
            "_view_name": "LayoutView",
            "align_content": null,
            "align_items": null,
            "align_self": null,
            "border": null,
            "bottom": null,
            "display": null,
            "flex": null,
            "flex_flow": null,
            "grid_area": null,
            "grid_auto_columns": null,
            "grid_auto_flow": null,
            "grid_auto_rows": null,
            "grid_column": null,
            "grid_gap": null,
            "grid_row": null,
            "grid_template_areas": null,
            "grid_template_columns": null,
            "grid_template_rows": null,
            "height": null,
            "justify_content": null,
            "justify_items": null,
            "left": null,
            "margin": null,
            "max_height": null,
            "max_width": null,
            "min_height": null,
            "min_width": null,
            "object_fit": null,
            "object_position": null,
            "order": null,
            "overflow": null,
            "overflow_x": null,
            "overflow_y": null,
            "padding": null,
            "right": null,
            "top": null,
            "visibility": null,
            "width": null
          }
        },
        "a055e3e6031f45b387c2f4641357f88b": {
          "model_module": "@jupyter-widgets/base",
          "model_name": "LayoutModel",
          "model_module_version": "1.2.0",
          "state": {
            "_model_module": "@jupyter-widgets/base",
            "_model_module_version": "1.2.0",
            "_model_name": "LayoutModel",
            "_view_count": null,
            "_view_module": "@jupyter-widgets/base",
            "_view_module_version": "1.2.0",
            "_view_name": "LayoutView",
            "align_content": null,
            "align_items": null,
            "align_self": null,
            "border": null,
            "bottom": null,
            "display": null,
            "flex": null,
            "flex_flow": null,
            "grid_area": null,
            "grid_auto_columns": null,
            "grid_auto_flow": null,
            "grid_auto_rows": null,
            "grid_column": null,
            "grid_gap": null,
            "grid_row": null,
            "grid_template_areas": null,
            "grid_template_columns": null,
            "grid_template_rows": null,
            "height": null,
            "justify_content": null,
            "justify_items": null,
            "left": null,
            "margin": null,
            "max_height": null,
            "max_width": null,
            "min_height": null,
            "min_width": null,
            "object_fit": null,
            "object_position": null,
            "order": null,
            "overflow": null,
            "overflow_x": null,
            "overflow_y": null,
            "padding": null,
            "right": null,
            "top": null,
            "visibility": null,
            "width": null
          }
        },
        "1c1a7a0e9b5b4be4bab7e31454e255f9": {
          "model_module": "@jupyter-widgets/controls",
          "model_name": "DescriptionStyleModel",
          "model_module_version": "1.5.0",
          "state": {
            "_model_module": "@jupyter-widgets/controls",
            "_model_module_version": "1.5.0",
            "_model_name": "DescriptionStyleModel",
            "_view_count": null,
            "_view_module": "@jupyter-widgets/base",
            "_view_module_version": "1.2.0",
            "_view_name": "StyleView",
            "description_width": ""
          }
        },
        "121c524c87d94a30b6f3ab670cb6b8ab": {
          "model_module": "@jupyter-widgets/base",
          "model_name": "LayoutModel",
          "model_module_version": "1.2.0",
          "state": {
            "_model_module": "@jupyter-widgets/base",
            "_model_module_version": "1.2.0",
            "_model_name": "LayoutModel",
            "_view_count": null,
            "_view_module": "@jupyter-widgets/base",
            "_view_module_version": "1.2.0",
            "_view_name": "LayoutView",
            "align_content": null,
            "align_items": null,
            "align_self": null,
            "border": null,
            "bottom": null,
            "display": null,
            "flex": null,
            "flex_flow": null,
            "grid_area": null,
            "grid_auto_columns": null,
            "grid_auto_flow": null,
            "grid_auto_rows": null,
            "grid_column": null,
            "grid_gap": null,
            "grid_row": null,
            "grid_template_areas": null,
            "grid_template_columns": null,
            "grid_template_rows": null,
            "height": null,
            "justify_content": null,
            "justify_items": null,
            "left": null,
            "margin": null,
            "max_height": null,
            "max_width": null,
            "min_height": null,
            "min_width": null,
            "object_fit": null,
            "object_position": null,
            "order": null,
            "overflow": null,
            "overflow_x": null,
            "overflow_y": null,
            "padding": null,
            "right": null,
            "top": null,
            "visibility": null,
            "width": null
          }
        },
        "4e5ce6fd5e0041f1a7291087e00ba2e9": {
          "model_module": "@jupyter-widgets/controls",
          "model_name": "ProgressStyleModel",
          "model_module_version": "1.5.0",
          "state": {
            "_model_module": "@jupyter-widgets/controls",
            "_model_module_version": "1.5.0",
            "_model_name": "ProgressStyleModel",
            "_view_count": null,
            "_view_module": "@jupyter-widgets/base",
            "_view_module_version": "1.2.0",
            "_view_name": "StyleView",
            "bar_color": null,
            "description_width": ""
          }
        },
        "2eb1779545db4a80907ef9f475a66fd3": {
          "model_module": "@jupyter-widgets/base",
          "model_name": "LayoutModel",
          "model_module_version": "1.2.0",
          "state": {
            "_model_module": "@jupyter-widgets/base",
            "_model_module_version": "1.2.0",
            "_model_name": "LayoutModel",
            "_view_count": null,
            "_view_module": "@jupyter-widgets/base",
            "_view_module_version": "1.2.0",
            "_view_name": "LayoutView",
            "align_content": null,
            "align_items": null,
            "align_self": null,
            "border": null,
            "bottom": null,
            "display": null,
            "flex": null,
            "flex_flow": null,
            "grid_area": null,
            "grid_auto_columns": null,
            "grid_auto_flow": null,
            "grid_auto_rows": null,
            "grid_column": null,
            "grid_gap": null,
            "grid_row": null,
            "grid_template_areas": null,
            "grid_template_columns": null,
            "grid_template_rows": null,
            "height": null,
            "justify_content": null,
            "justify_items": null,
            "left": null,
            "margin": null,
            "max_height": null,
            "max_width": null,
            "min_height": null,
            "min_width": null,
            "object_fit": null,
            "object_position": null,
            "order": null,
            "overflow": null,
            "overflow_x": null,
            "overflow_y": null,
            "padding": null,
            "right": null,
            "top": null,
            "visibility": null,
            "width": null
          }
        },
        "7bcfbf0157a3452784d1a5781a8e9db9": {
          "model_module": "@jupyter-widgets/controls",
          "model_name": "DescriptionStyleModel",
          "model_module_version": "1.5.0",
          "state": {
            "_model_module": "@jupyter-widgets/controls",
            "_model_module_version": "1.5.0",
            "_model_name": "DescriptionStyleModel",
            "_view_count": null,
            "_view_module": "@jupyter-widgets/base",
            "_view_module_version": "1.2.0",
            "_view_name": "StyleView",
            "description_width": ""
          }
        }
      }
    }
  },
  "nbformat": 4,
  "nbformat_minor": 0
}