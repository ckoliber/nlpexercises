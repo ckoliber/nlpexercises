{
 "cells": [
  {
   "cell_type": "markdown",
   "metadata": {},
   "source": [
    "# NLP Answers\n",
    "\n",
    "- **Answer Set**: No. 02\n",
    "- **Full Name**: Mohammad Hosein Nemati\n",
    "- **Student Code**: `610300185`"
   ]
  },
  {
   "cell_type": "markdown",
   "id": "6595aa20",
   "metadata": {},
   "source": [
    "---"
   ]
  },
  {
   "cell_type": "markdown",
   "id": "f4ed694d",
   "metadata": {},
   "source": [
    "## Basics\n",
    "\n",
    "In this section we will done some basic steps:"
   ]
  },
  {
   "cell_type": "markdown",
   "id": "679cf505",
   "metadata": {},
   "source": [
    "### Libraries\n",
    "\n",
    "Before begin, we must import these required libraries:"
   ]
  },
  {
   "cell_type": "code",
   "execution_count": 35,
   "id": "8d1e4ab7",
   "metadata": {},
   "outputs": [],
   "source": [
    "import warnings\n",
    "\n",
    "import re as re\n",
    "\n",
    "import numpy as np\n",
    "import pandas as pd\n",
    "import sklearn as sk\n",
    "import matplotlib.pyplot as plt\n",
    "\n",
    "import sklearn.base as skbase\n",
    "import sklearn.utils as skutils\n",
    "import sklearn.pipeline as skpipeline\n",
    "import sklearn.preprocessing as skprocessing\n",
    "import sklearn.model_selection as skselection\n",
    "import sklearn.feature_extraction.text as sktext\n",
    "\n",
    "import exercise_2.hmm as hmm\n",
    "\n",
    "warnings.filterwarnings(\"ignore\", category=UserWarning)\n",
    "sk.set_config(display=\"diagram\")"
   ]
  },
  {
   "cell_type": "markdown",
   "id": "8d32c3cd",
   "metadata": {},
   "source": [
    "### Dataset\n",
    "\n",
    "Now we will load `hmm_data` corpus and store `TestSet` and `TrainSet`:"
   ]
  },
  {
   "cell_type": "code",
   "execution_count": 33,
   "metadata": {},
   "outputs": [],
   "source": [
    "train_features = []\n",
    "train_lengths = []\n",
    "for i in range(5):\n",
    "    data_set = pd.read_csv(\n",
    "        f\"../lib/hmm_data/seq_model_0{i+1}.txt\", header=None, names=[\"Text\"]\n",
    "    ).applymap(lambda x: list(x)).head(10).to_numpy().flatten()\n",
    "    train_features.append(np.concatenate(data_set))\n",
    "    train_lengths.append(np.array([len(x) for x in data_set]))\n",
    "\n",
    "test_features = []\n",
    "test_lengths = []\n",
    "for i in range(2):\n",
    "    data_set = pd.read_csv(\n",
    "        f\"../lib/hmm_data/testing_data{i+1}.txt\", header=None, names=[\"Text\"]\n",
    "    ).applymap(lambda x: list(x)).to_numpy().flatten()\n",
    "    test_features.append(np.concatenate(data_set))\n",
    "    test_lengths.append(np.array([len(x) for x in data_set]))"
   ]
  },
  {
   "cell_type": "markdown",
   "metadata": {},
   "source": [
    "---"
   ]
  },
  {
   "cell_type": "code",
   "execution_count": 36,
   "metadata": {},
   "outputs": [
    {
     "ename": "TypingError",
     "evalue": "Failed in nopython mode pipeline (step: nopython frontend)\n\u001b[1m\u001b[1m\u001b[1m\u001b[1mFailed in nopython mode pipeline (step: nopython frontend)\n\u001b[1m\u001b[1mNo implementation of function Function(<built-in function getitem>) found for signature:\n \n >>> getitem(array(float64, 2d, A), Tuple(slice<a:b>, [unichr x 1]))\n \nThere are 22 candidate implementations:\n\u001b[1m      - Of which 20 did not match due to:\n      Overload of function 'getitem': File: <numerous>: Line N/A.\n        With argument(s): '(array(float64, 2d, A), Tuple(slice<a:b>, [unichr x 1]))':\u001b[0m\n\u001b[1m       No match.\u001b[0m\n\u001b[1m      - Of which 2 did not match due to:\n      Overload in function 'GetItemBuffer.generic': File: numba\\core\\typing\\arraydecl.py: Line 166.\n        With argument(s): '(array(float64, 2d, A), Tuple(slice<a:b>, [unichr x 1]))':\u001b[0m\n\u001b[1m       Rejected as the implementation raised a specific error:\n         NumbaTypeError: \u001b[1munsupported array index type [unichr x 1] in Tuple(slice<a:b>, [unichr x 1])\u001b[0m\u001b[0m\n  raised from c:\\Users\\KoLiBer\\Documents\\Workspace\\nlpexercises\\.venv\\lib\\site-packages\\numba\\core\\typing\\arraydecl.py:72\n\u001b[0m\n\u001b[0m\u001b[1mDuring: typing of intrinsic-call at c:\\Users\\KoLiBer\\Documents\\Workspace\\nlpexercises\\src\\exercise_2\\hmm.py (16)\u001b[0m\n\u001b[1m\nFile \"exercise_2\\hmm.py\", line 16:\u001b[0m\n\u001b[1mdef _alpha(x, start_probs, transition_probs, observation_probs):\n    <source elided>\n    alpha = np.zeros((len(x), n_components))\n\u001b[1m    alpha[0, :] = start_probs[:] * observation_probs[:, x[0]]\n\u001b[0m    \u001b[1m^\u001b[0m\u001b[0m\n\n\u001b[0m\u001b[1mDuring: resolving callee type: type(CPUDispatcher(<function _alpha at 0x000002D5FFA92B80>))\u001b[0m\n\u001b[0m\u001b[1mDuring: typing of call at c:\\Users\\KoLiBer\\Documents\\Workspace\\nlpexercises\\src\\exercise_2\\hmm.py (96)\n\u001b[0m\n\u001b[0m\u001b[1mDuring: resolving callee type: type(CPUDispatcher(<function _alpha at 0x000002D5FFA92B80>))\u001b[0m\n\u001b[0m\u001b[1mDuring: typing of call at c:\\Users\\KoLiBer\\Documents\\Workspace\\nlpexercises\\src\\exercise_2\\hmm.py (96)\n\u001b[0m\n\u001b[1m\nFile \"exercise_2\\hmm.py\", line 96:\u001b[0m\n\u001b[1mdef _fit(X, lengths, n_iter, n_components, start_probs, transition_probs, observation_probs):\n    <source elided>\n        gammas = np.zeros((R, lengths[0], n_components))\n\u001b[1m\n\u001b[0m \u001b[1m^\u001b[0m\u001b[0m\n",
     "output_type": "error",
     "traceback": [
      "\u001b[1;31m---------------------------------------------------------------------------\u001b[0m",
      "\u001b[1;31mTypingError\u001b[0m                               Traceback (most recent call last)",
      "\u001b[1;32mc:\\Users\\KoLiBer\\Documents\\Workspace\\nlpexercises\\src\\exercise2.ipynb Cell 9'\u001b[0m in \u001b[0;36m<cell line: 2>\u001b[1;34m()\u001b[0m\n\u001b[0;32m      <a href='vscode-notebook-cell:/c%3A/Users/KoLiBer/Documents/Workspace/nlpexercises/src/exercise2.ipynb#ch0000009?line=0'>1</a>\u001b[0m models \u001b[39m=\u001b[39m []\n\u001b[0;32m      <a href='vscode-notebook-cell:/c%3A/Users/KoLiBer/Documents/Workspace/nlpexercises/src/exercise2.ipynb#ch0000009?line=1'>2</a>\u001b[0m \u001b[39mfor\u001b[39;00m i \u001b[39min\u001b[39;00m \u001b[39mrange\u001b[39m(\u001b[39m5\u001b[39m):\n\u001b[0;32m      <a href='vscode-notebook-cell:/c%3A/Users/KoLiBer/Documents/Workspace/nlpexercises/src/exercise2.ipynb#ch0000009?line=2'>3</a>\u001b[0m     models\u001b[39m.\u001b[39mappend(\n\u001b[1;32m----> <a href='vscode-notebook-cell:/c%3A/Users/KoLiBer/Documents/Workspace/nlpexercises/src/exercise2.ipynb#ch0000009?line=3'>4</a>\u001b[0m         hmm\u001b[39m.\u001b[39;49mload_model(\u001b[39m\"\u001b[39;49m\u001b[39m../lib/hmm_data/model_init.txt\u001b[39;49m\u001b[39m\"\u001b[39;49m)\u001b[39m.\u001b[39;49mfit(train_features[i], train_lengths[i])\n\u001b[0;32m      <a href='vscode-notebook-cell:/c%3A/Users/KoLiBer/Documents/Workspace/nlpexercises/src/exercise2.ipynb#ch0000009?line=4'>5</a>\u001b[0m     )\n",
      "File \u001b[1;32mc:\\Users\\KoLiBer\\Documents\\Workspace\\nlpexercises\\src\\exercise_2\\hmm.py:150\u001b[0m, in \u001b[0;36mfit\u001b[1;34m(self, X, y)\u001b[0m\n\u001b[0;32m    <a href='file:///c%3A/Users/KoLiBer/Documents/Workspace/nlpexercises/src/exercise_2/hmm.py?line=144'>145</a>\u001b[0m \u001b[39mdef\u001b[39;00m \u001b[39mscore\u001b[39m(\u001b[39mself\u001b[39m, X, lengths\u001b[39m=\u001b[39m\u001b[39mNone\u001b[39;00m):\n\u001b[0;32m    <a href='file:///c%3A/Users/KoLiBer/Documents/Workspace/nlpexercises/src/exercise_2/hmm.py?line=145'>146</a>\u001b[0m     \u001b[39mreturn\u001b[39;00m _score(\n\u001b[0;32m    <a href='file:///c%3A/Users/KoLiBer/Documents/Workspace/nlpexercises/src/exercise_2/hmm.py?line=146'>147</a>\u001b[0m         X,\n\u001b[0;32m    <a href='file:///c%3A/Users/KoLiBer/Documents/Workspace/nlpexercises/src/exercise_2/hmm.py?line=147'>148</a>\u001b[0m         lengths,\n\u001b[0;32m    <a href='file:///c%3A/Users/KoLiBer/Documents/Workspace/nlpexercises/src/exercise_2/hmm.py?line=148'>149</a>\u001b[0m         \u001b[39mself\u001b[39m\u001b[39m.\u001b[39mstart_probs,\n\u001b[1;32m--> <a href='file:///c%3A/Users/KoLiBer/Documents/Workspace/nlpexercises/src/exercise_2/hmm.py?line=149'>150</a>\u001b[0m         \u001b[39mself\u001b[39m\u001b[39m.\u001b[39mtransition_probs,\n\u001b[0;32m    <a href='file:///c%3A/Users/KoLiBer/Documents/Workspace/nlpexercises/src/exercise_2/hmm.py?line=150'>151</a>\u001b[0m         \u001b[39mself\u001b[39m\u001b[39m.\u001b[39mobservation_probs\n\u001b[0;32m    <a href='file:///c%3A/Users/KoLiBer/Documents/Workspace/nlpexercises/src/exercise_2/hmm.py?line=151'>152</a>\u001b[0m     )\n",
      "File \u001b[1;32mc:\\Users\\KoLiBer\\Documents\\Workspace\\nlpexercises\\.venv\\lib\\site-packages\\numba\\core\\dispatcher.py:468\u001b[0m, in \u001b[0;36m_DispatcherBase._compile_for_args\u001b[1;34m(self, *args, **kws)\u001b[0m\n\u001b[0;32m    <a href='file:///c%3A/Users/KoLiBer/Documents/Workspace/nlpexercises/.venv/lib/site-packages/numba/core/dispatcher.py?line=463'>464</a>\u001b[0m         msg \u001b[39m=\u001b[39m (\u001b[39mf\u001b[39m\u001b[39m\"\u001b[39m\u001b[39m{\u001b[39;00m\u001b[39mstr\u001b[39m(e)\u001b[39m.\u001b[39mrstrip()\u001b[39m}\u001b[39;00m\u001b[39m \u001b[39m\u001b[39m\\n\u001b[39;00m\u001b[39m\\n\u001b[39;00m\u001b[39mThis error may have been caused \u001b[39m\u001b[39m\"\u001b[39m\n\u001b[0;32m    <a href='file:///c%3A/Users/KoLiBer/Documents/Workspace/nlpexercises/.venv/lib/site-packages/numba/core/dispatcher.py?line=464'>465</a>\u001b[0m                \u001b[39mf\u001b[39m\u001b[39m\"\u001b[39m\u001b[39mby the following argument(s):\u001b[39m\u001b[39m\\n\u001b[39;00m\u001b[39m{\u001b[39;00margs_str\u001b[39m}\u001b[39;00m\u001b[39m\\n\u001b[39;00m\u001b[39m\"\u001b[39m)\n\u001b[0;32m    <a href='file:///c%3A/Users/KoLiBer/Documents/Workspace/nlpexercises/.venv/lib/site-packages/numba/core/dispatcher.py?line=465'>466</a>\u001b[0m         e\u001b[39m.\u001b[39mpatch_message(msg)\n\u001b[1;32m--> <a href='file:///c%3A/Users/KoLiBer/Documents/Workspace/nlpexercises/.venv/lib/site-packages/numba/core/dispatcher.py?line=467'>468</a>\u001b[0m     error_rewrite(e, \u001b[39m'\u001b[39;49m\u001b[39mtyping\u001b[39;49m\u001b[39m'\u001b[39;49m)\n\u001b[0;32m    <a href='file:///c%3A/Users/KoLiBer/Documents/Workspace/nlpexercises/.venv/lib/site-packages/numba/core/dispatcher.py?line=468'>469</a>\u001b[0m \u001b[39mexcept\u001b[39;00m errors\u001b[39m.\u001b[39mUnsupportedError \u001b[39mas\u001b[39;00m e:\n\u001b[0;32m    <a href='file:///c%3A/Users/KoLiBer/Documents/Workspace/nlpexercises/.venv/lib/site-packages/numba/core/dispatcher.py?line=469'>470</a>\u001b[0m     \u001b[39m# Something unsupported is present in the user code, add help info\u001b[39;00m\n\u001b[0;32m    <a href='file:///c%3A/Users/KoLiBer/Documents/Workspace/nlpexercises/.venv/lib/site-packages/numba/core/dispatcher.py?line=470'>471</a>\u001b[0m     error_rewrite(e, \u001b[39m'\u001b[39m\u001b[39munsupported_error\u001b[39m\u001b[39m'\u001b[39m)\n",
      "File \u001b[1;32mc:\\Users\\KoLiBer\\Documents\\Workspace\\nlpexercises\\.venv\\lib\\site-packages\\numba\\core\\dispatcher.py:409\u001b[0m, in \u001b[0;36m_DispatcherBase._compile_for_args.<locals>.error_rewrite\u001b[1;34m(e, issue_type)\u001b[0m\n\u001b[0;32m    <a href='file:///c%3A/Users/KoLiBer/Documents/Workspace/nlpexercises/.venv/lib/site-packages/numba/core/dispatcher.py?line=406'>407</a>\u001b[0m     \u001b[39mraise\u001b[39;00m e\n\u001b[0;32m    <a href='file:///c%3A/Users/KoLiBer/Documents/Workspace/nlpexercises/.venv/lib/site-packages/numba/core/dispatcher.py?line=407'>408</a>\u001b[0m \u001b[39melse\u001b[39;00m:\n\u001b[1;32m--> <a href='file:///c%3A/Users/KoLiBer/Documents/Workspace/nlpexercises/.venv/lib/site-packages/numba/core/dispatcher.py?line=408'>409</a>\u001b[0m     \u001b[39mraise\u001b[39;00m e\u001b[39m.\u001b[39mwith_traceback(\u001b[39mNone\u001b[39;00m)\n",
      "\u001b[1;31mTypingError\u001b[0m: Failed in nopython mode pipeline (step: nopython frontend)\n\u001b[1m\u001b[1m\u001b[1m\u001b[1mFailed in nopython mode pipeline (step: nopython frontend)\n\u001b[1m\u001b[1mNo implementation of function Function(<built-in function getitem>) found for signature:\n \n >>> getitem(array(float64, 2d, A), Tuple(slice<a:b>, [unichr x 1]))\n \nThere are 22 candidate implementations:\n\u001b[1m      - Of which 20 did not match due to:\n      Overload of function 'getitem': File: <numerous>: Line N/A.\n        With argument(s): '(array(float64, 2d, A), Tuple(slice<a:b>, [unichr x 1]))':\u001b[0m\n\u001b[1m       No match.\u001b[0m\n\u001b[1m      - Of which 2 did not match due to:\n      Overload in function 'GetItemBuffer.generic': File: numba\\core\\typing\\arraydecl.py: Line 166.\n        With argument(s): '(array(float64, 2d, A), Tuple(slice<a:b>, [unichr x 1]))':\u001b[0m\n\u001b[1m       Rejected as the implementation raised a specific error:\n         NumbaTypeError: \u001b[1munsupported array index type [unichr x 1] in Tuple(slice<a:b>, [unichr x 1])\u001b[0m\u001b[0m\n  raised from c:\\Users\\KoLiBer\\Documents\\Workspace\\nlpexercises\\.venv\\lib\\site-packages\\numba\\core\\typing\\arraydecl.py:72\n\u001b[0m\n\u001b[0m\u001b[1mDuring: typing of intrinsic-call at c:\\Users\\KoLiBer\\Documents\\Workspace\\nlpexercises\\src\\exercise_2\\hmm.py (16)\u001b[0m\n\u001b[1m\nFile \"exercise_2\\hmm.py\", line 16:\u001b[0m\n\u001b[1mdef _alpha(x, start_probs, transition_probs, observation_probs):\n    <source elided>\n    alpha = np.zeros((len(x), n_components))\n\u001b[1m    alpha[0, :] = start_probs[:] * observation_probs[:, x[0]]\n\u001b[0m    \u001b[1m^\u001b[0m\u001b[0m\n\n\u001b[0m\u001b[1mDuring: resolving callee type: type(CPUDispatcher(<function _alpha at 0x000002D5FFA92B80>))\u001b[0m\n\u001b[0m\u001b[1mDuring: typing of call at c:\\Users\\KoLiBer\\Documents\\Workspace\\nlpexercises\\src\\exercise_2\\hmm.py (96)\n\u001b[0m\n\u001b[0m\u001b[1mDuring: resolving callee type: type(CPUDispatcher(<function _alpha at 0x000002D5FFA92B80>))\u001b[0m\n\u001b[0m\u001b[1mDuring: typing of call at c:\\Users\\KoLiBer\\Documents\\Workspace\\nlpexercises\\src\\exercise_2\\hmm.py (96)\n\u001b[0m\n\u001b[1m\nFile \"exercise_2\\hmm.py\", line 96:\u001b[0m\n\u001b[1mdef _fit(X, lengths, n_iter, n_components, start_probs, transition_probs, observation_probs):\n    <source elided>\n        gammas = np.zeros((R, lengths[0], n_components))\n\u001b[1m\n\u001b[0m \u001b[1m^\u001b[0m\u001b[0m\n"
     ]
    }
   ],
   "source": [
    "models = []\n",
    "for i in range(5):\n",
    "    models.append(\n",
    "        hmm.load_model(\"../lib/hmm_data/model_init.txt\").fit(train_features[i], train_lengths[i])\n",
    "    )"
   ]
  }
 ],
 "metadata": {
  "interpreter": {
   "hash": "9278c29f1c5526d5663cab0214876a9a1ad235f0a8fdeebad627cd7666833d94"
  },
  "kernelspec": {
   "display_name": "Python 3.8.0 ('.venv': poetry)",
   "language": "python",
   "name": "python3"
  },
  "language_info": {
   "codemirror_mode": {
    "name": "ipython",
    "version": 3
   },
   "file_extension": ".py",
   "mimetype": "text/x-python",
   "name": "python",
   "nbconvert_exporter": "python",
   "pygments_lexer": "ipython3",
   "version": "3.8.0"
  },
  "orig_nbformat": 4
 },
 "nbformat": 4,
 "nbformat_minor": 2
}
