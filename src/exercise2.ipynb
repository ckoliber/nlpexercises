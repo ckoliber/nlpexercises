{
 "cells": [
  {
   "cell_type": "markdown",
   "metadata": {},
   "source": [
    "# NLP Answers\n",
    "\n",
    "- **Answer Set**: No. 02\n",
    "- **Full Name**: Mohammad Hosein Nemati\n",
    "- **Student Code**: `610300185`"
   ]
  },
  {
   "cell_type": "markdown",
   "id": "6595aa20",
   "metadata": {},
   "source": [
    "---"
   ]
  },
  {
   "cell_type": "markdown",
   "id": "f4ed694d",
   "metadata": {},
   "source": [
    "## Basics\n",
    "\n",
    "In this section we will done some basic steps:"
   ]
  },
  {
   "cell_type": "markdown",
   "id": "679cf505",
   "metadata": {},
   "source": [
    "### Libraries\n",
    "\n",
    "Before begin, we must import these required libraries:"
   ]
  },
  {
   "cell_type": "code",
   "execution_count": 33,
   "id": "8d1e4ab7",
   "metadata": {},
   "outputs": [],
   "source": [
    "import warnings\n",
    "\n",
    "import re as re\n",
    "\n",
    "import numpy as np\n",
    "import pandas as pd\n",
    "import sklearn as sk\n",
    "import matplotlib.pyplot as plt\n",
    "\n",
    "import sklearn.base as skbase\n",
    "import sklearn.utils as skutils\n",
    "import sklearn.pipeline as skpipeline\n",
    "import sklearn.preprocessing as skprocessing\n",
    "import sklearn.model_selection as skselection\n",
    "import sklearn.feature_extraction.text as sktext\n",
    "\n",
    "import hmm.hmm as hmm\n",
    "\n",
    "warnings.filterwarnings(\"ignore\", category=UserWarning)\n",
    "sk.set_config(display=\"diagram\")"
   ]
  },
  {
   "cell_type": "markdown",
   "id": "8d32c3cd",
   "metadata": {},
   "source": [
    "### Dataset\n",
    "\n",
    "Now we will load `hmm_data` corpus and store `TestSet` and `TrainSet`:"
   ]
  },
  {
   "cell_type": "code",
   "execution_count": 34,
   "metadata": {},
   "outputs": [],
   "source": [
    "train_features = []\n",
    "train_lengths = []\n",
    "for i in range(5):\n",
    "    data_set = pd.read_csv(\n",
    "        f\"../lib/hmm_data/seq_model_0{i+1}.txt\", header=None, names=[\"Text\"]\n",
    "    ).applymap(lambda x: list(x)).to_numpy().flatten()\n",
    "    data_features = np.concatenate(data_set)\n",
    "    train_features.append(skprocessing.LabelEncoder().fit(data_features).transform(data_features))\n",
    "    train_lengths.append(np.array([len(x) for x in data_set]))\n",
    "\n",
    "test_features = []\n",
    "test_lengths = []\n",
    "for i in range(2):\n",
    "    data_set = pd.read_csv(\n",
    "        f\"../lib/hmm_data/testing_data{i+1}.txt\", header=None, names=[\"Text\"]\n",
    "    ).applymap(lambda x: list(x)).to_numpy().flatten()\n",
    "    data_features = np.concatenate(data_set)\n",
    "    test_features.append(skprocessing.LabelEncoder().fit(data_features).transform(data_features))\n",
    "    test_lengths.append(np.array([len(x) for x in data_set]))\n",
    "\n",
    "test_answers = pd.read_csv(\n",
    "    f\"../lib/hmm_data/testing_answer.txt\", header=None, names=[\"Text\"]\n",
    ").to_numpy().flatten()"
   ]
  },
  {
   "cell_type": "markdown",
   "metadata": {},
   "source": [
    "---"
   ]
  },
  {
   "cell_type": "markdown",
   "metadata": {},
   "source": [
    "## Problem\n",
    "\n",
    "Now, we will use the implemented `HMM` class and build **5** models based on **5** training sets, then we will iteratively train our models and calculate accuracies:"
   ]
  },
  {
   "cell_type": "code",
   "execution_count": 35,
   "metadata": {},
   "outputs": [
    {
     "data": {
      "image/png": "[encoded data removed]",
      "text/plain": [
       "<Figure size 720x360 with 1 Axes>"
      ]
     },
     "metadata": {
      "needs_background": "light"
     },
     "output_type": "display_data"
    }
   ],
   "source": [
    "models = [hmm.load_model(\"../lib/hmm_data/model_init.txt\") for _ in range(5)]\n",
    "accuracies = []\n",
    "\n",
    "for k in range(21):\n",
    "    scores = []\n",
    "    for i in range(5):\n",
    "        if k > 0:\n",
    "            models[i].fit(train_features[i], train_lengths[i])\n",
    "        scores.append(models[i].score(test_features[0], test_lengths[0]))\n",
    "    \n",
    "    corrects = 0\n",
    "    for index, model_index in enumerate(np.argmax(np.array(scores), axis=0)):\n",
    "        if test_answers[index] == f\"model_0{model_index+1}.txt\":\n",
    "            corrects += 1\n",
    "\n",
    "    accuracies.append(corrects / 25)\n",
    "    \n",
    "plt.figure(figsize=(10, 5))\n",
    "plt.plot([i*5 for i in range(21)], accuracies)\n",
    "plt.xlabel(\"Iteration\")\n",
    "plt.ylabel(\"Accuracy\")\n",
    "plt.title(\"Accuracy per Iteration\")\n",
    "plt.show()"
   ]
  },
  {
   "cell_type": "markdown",
   "metadata": {},
   "source": [
    "As we can see, after `100` iterations, the accuracy of models is about `87%`.\n",
    "\n",
    "---"
   ]
  }
 ],
 "metadata": {
  "interpreter": {
   "hash": "9278c29f1c5526d5663cab0214876a9a1ad235f0a8fdeebad627cd7666833d94"
  },
  "kernelspec": {
   "display_name": "Python 3.8.0 ('.venv': poetry)",
   "language": "python",
   "name": "python3"
  },
  "language_info": {
   "codemirror_mode": {
    "name": "ipython",
    "version": 3
   },
   "file_extension": ".py",
   "mimetype": "text/x-python",
   "name": "python",
   "nbconvert_exporter": "python",
   "pygments_lexer": "ipython3",
   "version": "3.8.0"
  },
  "orig_nbformat": 4
 },
 "nbformat": 4,
 "nbformat_minor": 2
}
