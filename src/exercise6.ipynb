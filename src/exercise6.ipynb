{
 "cells": [
  {
   "cell_type": "markdown",
   "metadata": {
    "id": "YKjxJKf3vtrb"
   },
   "source": [
    "# NLP Answers\n",
    "\n",
    "- **Answer Set**: No. 06\n",
    "- **Full Name**: Mohammad Hosein Nemati\n",
    "- **Student Code**: `610300185`"
   ]
  },
  {
   "cell_type": "markdown",
   "metadata": {
    "id": "NokCmrCkvtrk"
   },
   "source": [
    "---"
   ]
  },
  {
   "cell_type": "markdown",
   "metadata": {
    "id": "nCrlSoh4vtrl"
   },
   "source": [
    "## Introduction\n",
    "\n",
    "In this problem, we are going to use **ParsBERT** pre-trained model for **Token Classification (NER)** task on **Custom** dataset.  \n",
    "Then we will compare the reported metrics to previously trained models in `exercise 3`\n",
    "\n",
    "In the first step, we will import some useful libraries."
   ]
  },
  {
   "cell_type": "code",
   "execution_count": 6,
   "metadata": {
    "id": "8d1e4ab7"
   },
   "outputs": [],
   "source": [
    "import warnings\n",
    "\n",
    "import math as math\n",
    "import hazm as hazm\n",
    "import nltk as nltk\n",
    "import nltk.corpus.reader.conll as nltkconll\n",
    "\n",
    "import numpy as np\n",
    "import pandas as pd\n",
    "import tensorflow as tf\n",
    "import matplotlib.pyplot as plt\n",
    "import sklearn.preprocessing as skprocessing\n",
    "\n",
    "warnings.filterwarnings(\"ignore\", category=UserWarning)"
   ]
  },
  {
   "cell_type": "markdown",
   "metadata": {
    "id": "6595aa20"
   },
   "source": [
    "---"
   ]
  },
  {
   "cell_type": "markdown",
   "metadata": {
    "id": "f4ed694d"
   },
   "source": [
    "## Loading\n",
    "\n",
    "First of all, we must load our dataset and then shuffle the records."
   ]
  },
  {
   "cell_type": "code",
   "execution_count": 2,
   "metadata": {
    "colab": {
     "base_uri": "https://localhost:8080/",
     "height": 419
    },
    "id": "paMlIDu6vtrr",
    "outputId": "f8f8ab33-b72b-494d-f482-201ada2b757d"
   },
   "outputs": [],
   "source": [
    "train_reader = nltkconll.ConllCorpusReader(\"../lib\", [\"Train.txt\"], (\"words\", \"pos\"))\n",
    "test_reader = nltkconll.ConllCorpusReader(\"../lib\", [\"Test.txt\"], (\"words\", \"pos\"))\n",
    "\n",
    "words_frequency = nltk.FreqDist(train_reader.words())\n",
    "\n",
    "def sents(reader):\n",
    "    for sent in reader.sents():\n",
    "        yield [\n",
    "            word if (words_frequency.get(word) or 0) > 1 else \"OOV\"\n",
    "            for word in sent\n",
    "        ]\n",
    "\n",
    "def words(reader):\n",
    "    for word in reader.words():\n",
    "        if (words_frequency.get(word) or 0) > 1:\n",
    "            yield word\n",
    "        else:\n",
    "            yield \"OOV\"\n",
    "\n",
    "def tags(reader):\n",
    "    for sent in reader.tagged_sents():\n",
    "        for token in sent:\n",
    "            yield token[1]"
   ]
  },
  {
   "cell_type": "code",
   "execution_count": 25,
   "metadata": {},
   "outputs": [
    {
     "ename": "OSError",
     "evalue": "[WinError 123] The filename, directory name, or volume label syntax is incorrect: 'https:\\\\huggingface.co\\\\datasets\\\\conll2003\\\\resolve\\\\main'",
     "output_type": "error",
     "traceback": [
      "\u001b[1;31m---------------------------------------------------------------------------\u001b[0m",
      "\u001b[1;31mOSError\u001b[0m                                   Traceback (most recent call last)",
      "\u001b[1;32mc:\\Users\\KoLiBer\\Documents\\Workspace\\nlpexercises\\src\\exercise6.ipynb Cell 8'\u001b[0m in \u001b[0;36m<cell line: 3>\u001b[1;34m()\u001b[0m\n\u001b[0;32m      <a href='vscode-notebook-cell:/c%3A/Users/KoLiBer/Documents/Workspace/nlpexercises/src/exercise6.ipynb#ch0000030?line=0'>1</a>\u001b[0m \u001b[39mfrom\u001b[39;00m \u001b[39mdatasets\u001b[39;00m \u001b[39mimport\u001b[39;00m load_dataset\n\u001b[1;32m----> <a href='vscode-notebook-cell:/c%3A/Users/KoLiBer/Documents/Workspace/nlpexercises/src/exercise6.ipynb#ch0000030?line=2'>3</a>\u001b[0m load_dataset(\u001b[39m\"\u001b[39;49m\u001b[39mconll2003\u001b[39;49m\u001b[39m\"\u001b[39;49m, data_files\u001b[39m=\u001b[39;49m{\n\u001b[0;32m      <a href='vscode-notebook-cell:/c%3A/Users/KoLiBer/Documents/Workspace/nlpexercises/src/exercise6.ipynb#ch0000030?line=3'>4</a>\u001b[0m     \u001b[39m\"\u001b[39;49m\u001b[39mtrain\u001b[39;49m\u001b[39m\"\u001b[39;49m: \u001b[39m\"\u001b[39;49m\u001b[39m../lib/Train.txt\u001b[39;49m\u001b[39m\"\u001b[39;49m,\n\u001b[0;32m      <a href='vscode-notebook-cell:/c%3A/Users/KoLiBer/Documents/Workspace/nlpexercises/src/exercise6.ipynb#ch0000030?line=4'>5</a>\u001b[0m     \u001b[39m\"\u001b[39;49m\u001b[39mtest\u001b[39;49m\u001b[39m\"\u001b[39;49m: \u001b[39m\"\u001b[39;49m\u001b[39m../lib/Test.txt\u001b[39;49m\u001b[39m\"\u001b[39;49m,\n\u001b[0;32m      <a href='vscode-notebook-cell:/c%3A/Users/KoLiBer/Documents/Workspace/nlpexercises/src/exercise6.ipynb#ch0000030?line=5'>6</a>\u001b[0m })\n",
      "File \u001b[1;32mc:\\Users\\KoLiBer\\Documents\\Workspace\\nlpexercises\\.venv\\lib\\site-packages\\datasets\\load.py:1723\u001b[0m, in \u001b[0;36mload_dataset\u001b[1;34m(path, name, data_dir, data_files, split, cache_dir, features, download_config, download_mode, ignore_verifications, keep_in_memory, save_infos, revision, use_auth_token, task, streaming, **config_kwargs)\u001b[0m\n\u001b[0;32m   <a href='file:///c%3A/Users/KoLiBer/Documents/Workspace/nlpexercises/.venv/lib/site-packages/datasets/load.py?line=1719'>1720</a>\u001b[0m ignore_verifications \u001b[39m=\u001b[39m ignore_verifications \u001b[39mor\u001b[39;00m save_infos\n\u001b[0;32m   <a href='file:///c%3A/Users/KoLiBer/Documents/Workspace/nlpexercises/.venv/lib/site-packages/datasets/load.py?line=1721'>1722</a>\u001b[0m \u001b[39m# Create a dataset builder\u001b[39;00m\n\u001b[1;32m-> <a href='file:///c%3A/Users/KoLiBer/Documents/Workspace/nlpexercises/.venv/lib/site-packages/datasets/load.py?line=1722'>1723</a>\u001b[0m builder_instance \u001b[39m=\u001b[39m load_dataset_builder(\n\u001b[0;32m   <a href='file:///c%3A/Users/KoLiBer/Documents/Workspace/nlpexercises/.venv/lib/site-packages/datasets/load.py?line=1723'>1724</a>\u001b[0m     path\u001b[39m=\u001b[39;49mpath,\n\u001b[0;32m   <a href='file:///c%3A/Users/KoLiBer/Documents/Workspace/nlpexercises/.venv/lib/site-packages/datasets/load.py?line=1724'>1725</a>\u001b[0m     name\u001b[39m=\u001b[39;49mname,\n\u001b[0;32m   <a href='file:///c%3A/Users/KoLiBer/Documents/Workspace/nlpexercises/.venv/lib/site-packages/datasets/load.py?line=1725'>1726</a>\u001b[0m     data_dir\u001b[39m=\u001b[39;49mdata_dir,\n\u001b[0;32m   <a href='file:///c%3A/Users/KoLiBer/Documents/Workspace/nlpexercises/.venv/lib/site-packages/datasets/load.py?line=1726'>1727</a>\u001b[0m     data_files\u001b[39m=\u001b[39;49mdata_files,\n\u001b[0;32m   <a href='file:///c%3A/Users/KoLiBer/Documents/Workspace/nlpexercises/.venv/lib/site-packages/datasets/load.py?line=1727'>1728</a>\u001b[0m     cache_dir\u001b[39m=\u001b[39;49mcache_dir,\n\u001b[0;32m   <a href='file:///c%3A/Users/KoLiBer/Documents/Workspace/nlpexercises/.venv/lib/site-packages/datasets/load.py?line=1728'>1729</a>\u001b[0m     features\u001b[39m=\u001b[39;49mfeatures,\n\u001b[0;32m   <a href='file:///c%3A/Users/KoLiBer/Documents/Workspace/nlpexercises/.venv/lib/site-packages/datasets/load.py?line=1729'>1730</a>\u001b[0m     download_config\u001b[39m=\u001b[39;49mdownload_config,\n\u001b[0;32m   <a href='file:///c%3A/Users/KoLiBer/Documents/Workspace/nlpexercises/.venv/lib/site-packages/datasets/load.py?line=1730'>1731</a>\u001b[0m     download_mode\u001b[39m=\u001b[39;49mdownload_mode,\n\u001b[0;32m   <a href='file:///c%3A/Users/KoLiBer/Documents/Workspace/nlpexercises/.venv/lib/site-packages/datasets/load.py?line=1731'>1732</a>\u001b[0m     revision\u001b[39m=\u001b[39;49mrevision,\n\u001b[0;32m   <a href='file:///c%3A/Users/KoLiBer/Documents/Workspace/nlpexercises/.venv/lib/site-packages/datasets/load.py?line=1732'>1733</a>\u001b[0m     use_auth_token\u001b[39m=\u001b[39;49muse_auth_token,\n\u001b[0;32m   <a href='file:///c%3A/Users/KoLiBer/Documents/Workspace/nlpexercises/.venv/lib/site-packages/datasets/load.py?line=1733'>1734</a>\u001b[0m     \u001b[39m*\u001b[39;49m\u001b[39m*\u001b[39;49mconfig_kwargs,\n\u001b[0;32m   <a href='file:///c%3A/Users/KoLiBer/Documents/Workspace/nlpexercises/.venv/lib/site-packages/datasets/load.py?line=1734'>1735</a>\u001b[0m )\n\u001b[0;32m   <a href='file:///c%3A/Users/KoLiBer/Documents/Workspace/nlpexercises/.venv/lib/site-packages/datasets/load.py?line=1736'>1737</a>\u001b[0m \u001b[39m# Return iterable dataset in case of streaming\u001b[39;00m\n\u001b[0;32m   <a href='file:///c%3A/Users/KoLiBer/Documents/Workspace/nlpexercises/.venv/lib/site-packages/datasets/load.py?line=1737'>1738</a>\u001b[0m \u001b[39mif\u001b[39;00m streaming:\n",
      "File \u001b[1;32mc:\\Users\\KoLiBer\\Documents\\Workspace\\nlpexercises\\.venv\\lib\\site-packages\\datasets\\load.py:1526\u001b[0m, in \u001b[0;36mload_dataset_builder\u001b[1;34m(path, name, data_dir, data_files, cache_dir, features, download_config, download_mode, revision, use_auth_token, **config_kwargs)\u001b[0m\n\u001b[0;32m   <a href='file:///c%3A/Users/KoLiBer/Documents/Workspace/nlpexercises/.venv/lib/site-packages/datasets/load.py?line=1522'>1523</a>\u001b[0m     \u001b[39mraise\u001b[39;00m \u001b[39mValueError\u001b[39;00m(error_msg)\n\u001b[0;32m   <a href='file:///c%3A/Users/KoLiBer/Documents/Workspace/nlpexercises/.venv/lib/site-packages/datasets/load.py?line=1524'>1525</a>\u001b[0m \u001b[39m# Instantiate the dataset builder\u001b[39;00m\n\u001b[1;32m-> <a href='file:///c%3A/Users/KoLiBer/Documents/Workspace/nlpexercises/.venv/lib/site-packages/datasets/load.py?line=1525'>1526</a>\u001b[0m builder_instance: DatasetBuilder \u001b[39m=\u001b[39m builder_cls(\n\u001b[0;32m   <a href='file:///c%3A/Users/KoLiBer/Documents/Workspace/nlpexercises/.venv/lib/site-packages/datasets/load.py?line=1526'>1527</a>\u001b[0m     cache_dir\u001b[39m=\u001b[39;49mcache_dir,\n\u001b[0;32m   <a href='file:///c%3A/Users/KoLiBer/Documents/Workspace/nlpexercises/.venv/lib/site-packages/datasets/load.py?line=1527'>1528</a>\u001b[0m     config_name\u001b[39m=\u001b[39;49mconfig_name,\n\u001b[0;32m   <a href='file:///c%3A/Users/KoLiBer/Documents/Workspace/nlpexercises/.venv/lib/site-packages/datasets/load.py?line=1528'>1529</a>\u001b[0m     data_dir\u001b[39m=\u001b[39;49mdata_dir,\n\u001b[0;32m   <a href='file:///c%3A/Users/KoLiBer/Documents/Workspace/nlpexercises/.venv/lib/site-packages/datasets/load.py?line=1529'>1530</a>\u001b[0m     data_files\u001b[39m=\u001b[39;49mdata_files,\n\u001b[0;32m   <a href='file:///c%3A/Users/KoLiBer/Documents/Workspace/nlpexercises/.venv/lib/site-packages/datasets/load.py?line=1530'>1531</a>\u001b[0m     \u001b[39mhash\u001b[39;49m\u001b[39m=\u001b[39;49m\u001b[39mhash\u001b[39;49m,\n\u001b[0;32m   <a href='file:///c%3A/Users/KoLiBer/Documents/Workspace/nlpexercises/.venv/lib/site-packages/datasets/load.py?line=1531'>1532</a>\u001b[0m     features\u001b[39m=\u001b[39;49mfeatures,\n\u001b[0;32m   <a href='file:///c%3A/Users/KoLiBer/Documents/Workspace/nlpexercises/.venv/lib/site-packages/datasets/load.py?line=1532'>1533</a>\u001b[0m     use_auth_token\u001b[39m=\u001b[39;49muse_auth_token,\n\u001b[0;32m   <a href='file:///c%3A/Users/KoLiBer/Documents/Workspace/nlpexercises/.venv/lib/site-packages/datasets/load.py?line=1533'>1534</a>\u001b[0m     \u001b[39m*\u001b[39;49m\u001b[39m*\u001b[39;49mbuilder_kwargs,\n\u001b[0;32m   <a href='file:///c%3A/Users/KoLiBer/Documents/Workspace/nlpexercises/.venv/lib/site-packages/datasets/load.py?line=1534'>1535</a>\u001b[0m     \u001b[39m*\u001b[39;49m\u001b[39m*\u001b[39;49mconfig_kwargs,\n\u001b[0;32m   <a href='file:///c%3A/Users/KoLiBer/Documents/Workspace/nlpexercises/.venv/lib/site-packages/datasets/load.py?line=1535'>1536</a>\u001b[0m )\n\u001b[0;32m   <a href='file:///c%3A/Users/KoLiBer/Documents/Workspace/nlpexercises/.venv/lib/site-packages/datasets/load.py?line=1537'>1538</a>\u001b[0m \u001b[39mreturn\u001b[39;00m builder_instance\n",
      "File \u001b[1;32mc:\\Users\\KoLiBer\\Documents\\Workspace\\nlpexercises\\.venv\\lib\\site-packages\\datasets\\builder.py:1154\u001b[0m, in \u001b[0;36mGeneratorBasedBuilder.__init__\u001b[1;34m(self, writer_batch_size, *args, **kwargs)\u001b[0m\n\u001b[0;32m   <a href='file:///c%3A/Users/KoLiBer/Documents/Workspace/nlpexercises/.venv/lib/site-packages/datasets/builder.py?line=1152'>1153</a>\u001b[0m \u001b[39mdef\u001b[39;00m \u001b[39m__init__\u001b[39m(\u001b[39mself\u001b[39m, \u001b[39m*\u001b[39margs, writer_batch_size\u001b[39m=\u001b[39m\u001b[39mNone\u001b[39;00m, \u001b[39m*\u001b[39m\u001b[39m*\u001b[39mkwargs):\n\u001b[1;32m-> <a href='file:///c%3A/Users/KoLiBer/Documents/Workspace/nlpexercises/.venv/lib/site-packages/datasets/builder.py?line=1153'>1154</a>\u001b[0m     \u001b[39msuper\u001b[39;49m()\u001b[39m.\u001b[39;49m\u001b[39m__init__\u001b[39;49m(\u001b[39m*\u001b[39;49margs, \u001b[39m*\u001b[39;49m\u001b[39m*\u001b[39;49mkwargs)\n\u001b[0;32m   <a href='file:///c%3A/Users/KoLiBer/Documents/Workspace/nlpexercises/.venv/lib/site-packages/datasets/builder.py?line=1154'>1155</a>\u001b[0m     \u001b[39m# Batch size used by the ArrowWriter\u001b[39;00m\n\u001b[0;32m   <a href='file:///c%3A/Users/KoLiBer/Documents/Workspace/nlpexercises/.venv/lib/site-packages/datasets/builder.py?line=1155'>1156</a>\u001b[0m     \u001b[39m# It defines the number of samples that are kept in memory before writing them\u001b[39;00m\n\u001b[0;32m   <a href='file:///c%3A/Users/KoLiBer/Documents/Workspace/nlpexercises/.venv/lib/site-packages/datasets/builder.py?line=1156'>1157</a>\u001b[0m     \u001b[39m# and also the length of the arrow chunks\u001b[39;00m\n\u001b[0;32m   <a href='file:///c%3A/Users/KoLiBer/Documents/Workspace/nlpexercises/.venv/lib/site-packages/datasets/builder.py?line=1157'>1158</a>\u001b[0m     \u001b[39m# None means that the ArrowWriter will use its default value\u001b[39;00m\n\u001b[0;32m   <a href='file:///c%3A/Users/KoLiBer/Documents/Workspace/nlpexercises/.venv/lib/site-packages/datasets/builder.py?line=1158'>1159</a>\u001b[0m     \u001b[39mself\u001b[39m\u001b[39m.\u001b[39m_writer_batch_size \u001b[39m=\u001b[39m writer_batch_size \u001b[39mor\u001b[39;00m \u001b[39mself\u001b[39m\u001b[39m.\u001b[39mDEFAULT_WRITER_BATCH_SIZE\n",
      "File \u001b[1;32mc:\\Users\\KoLiBer\\Documents\\Workspace\\nlpexercises\\.venv\\lib\\site-packages\\datasets\\builder.py:286\u001b[0m, in \u001b[0;36mDatasetBuilder.__init__\u001b[1;34m(self, cache_dir, config_name, hash, base_path, info, features, use_auth_token, repo_id, data_files, data_dir, name, **config_kwargs)\u001b[0m\n\u001b[0;32m    <a href='file:///c%3A/Users/KoLiBer/Documents/Workspace/nlpexercises/.venv/lib/site-packages/datasets/builder.py?line=282'>283</a>\u001b[0m \u001b[39mself\u001b[39m\u001b[39m.\u001b[39mrepo_id \u001b[39m=\u001b[39m repo_id\n\u001b[0;32m    <a href='file:///c%3A/Users/KoLiBer/Documents/Workspace/nlpexercises/.venv/lib/site-packages/datasets/builder.py?line=284'>285</a>\u001b[0m \u001b[39mif\u001b[39;00m data_files \u001b[39mis\u001b[39;00m \u001b[39mnot\u001b[39;00m \u001b[39mNone\u001b[39;00m \u001b[39mand\u001b[39;00m \u001b[39mnot\u001b[39;00m \u001b[39misinstance\u001b[39m(data_files, DataFilesDict):\n\u001b[1;32m--> <a href='file:///c%3A/Users/KoLiBer/Documents/Workspace/nlpexercises/.venv/lib/site-packages/datasets/builder.py?line=285'>286</a>\u001b[0m     data_files \u001b[39m=\u001b[39m DataFilesDict\u001b[39m.\u001b[39;49mfrom_local_or_remote(\n\u001b[0;32m    <a href='file:///c%3A/Users/KoLiBer/Documents/Workspace/nlpexercises/.venv/lib/site-packages/datasets/builder.py?line=286'>287</a>\u001b[0m         sanitize_patterns(data_files), base_path\u001b[39m=\u001b[39;49mbase_path, use_auth_token\u001b[39m=\u001b[39;49muse_auth_token\n\u001b[0;32m    <a href='file:///c%3A/Users/KoLiBer/Documents/Workspace/nlpexercises/.venv/lib/site-packages/datasets/builder.py?line=287'>288</a>\u001b[0m     )\n\u001b[0;32m    <a href='file:///c%3A/Users/KoLiBer/Documents/Workspace/nlpexercises/.venv/lib/site-packages/datasets/builder.py?line=289'>290</a>\u001b[0m \u001b[39m# Prepare config: DatasetConfig contains name, version and description but can be extended by each dataset\u001b[39;00m\n\u001b[0;32m    <a href='file:///c%3A/Users/KoLiBer/Documents/Workspace/nlpexercises/.venv/lib/site-packages/datasets/builder.py?line=290'>291</a>\u001b[0m \u001b[39mif\u001b[39;00m \u001b[39m\"\u001b[39m\u001b[39mfeatures\u001b[39m\u001b[39m\"\u001b[39m \u001b[39min\u001b[39;00m inspect\u001b[39m.\u001b[39msignature(\u001b[39mself\u001b[39m\u001b[39m.\u001b[39mBUILDER_CONFIG_CLASS\u001b[39m.\u001b[39m\u001b[39m__init__\u001b[39m)\u001b[39m.\u001b[39mparameters \u001b[39mand\u001b[39;00m features \u001b[39mis\u001b[39;00m \u001b[39mnot\u001b[39;00m \u001b[39mNone\u001b[39;00m:\n",
      "File \u001b[1;32mc:\\Users\\KoLiBer\\Documents\\Workspace\\nlpexercises\\.venv\\lib\\site-packages\\datasets\\data_files.py:786\u001b[0m, in \u001b[0;36mDataFilesDict.from_local_or_remote\u001b[1;34m(cls, patterns, base_path, allowed_extensions, use_auth_token)\u001b[0m\n\u001b[0;32m    <a href='file:///c%3A/Users/KoLiBer/Documents/Workspace/nlpexercises/.venv/lib/site-packages/datasets/data_files.py?line=782'>783</a>\u001b[0m out \u001b[39m=\u001b[39m \u001b[39mcls\u001b[39m()\n\u001b[0;32m    <a href='file:///c%3A/Users/KoLiBer/Documents/Workspace/nlpexercises/.venv/lib/site-packages/datasets/data_files.py?line=783'>784</a>\u001b[0m \u001b[39mfor\u001b[39;00m key, patterns_for_key \u001b[39min\u001b[39;00m patterns\u001b[39m.\u001b[39mitems():\n\u001b[0;32m    <a href='file:///c%3A/Users/KoLiBer/Documents/Workspace/nlpexercises/.venv/lib/site-packages/datasets/data_files.py?line=784'>785</a>\u001b[0m     out[key] \u001b[39m=\u001b[39m (\n\u001b[1;32m--> <a href='file:///c%3A/Users/KoLiBer/Documents/Workspace/nlpexercises/.venv/lib/site-packages/datasets/data_files.py?line=785'>786</a>\u001b[0m         DataFilesList\u001b[39m.\u001b[39;49mfrom_local_or_remote(\n\u001b[0;32m    <a href='file:///c%3A/Users/KoLiBer/Documents/Workspace/nlpexercises/.venv/lib/site-packages/datasets/data_files.py?line=786'>787</a>\u001b[0m             patterns_for_key,\n\u001b[0;32m    <a href='file:///c%3A/Users/KoLiBer/Documents/Workspace/nlpexercises/.venv/lib/site-packages/datasets/data_files.py?line=787'>788</a>\u001b[0m             base_path\u001b[39m=\u001b[39;49mbase_path,\n\u001b[0;32m    <a href='file:///c%3A/Users/KoLiBer/Documents/Workspace/nlpexercises/.venv/lib/site-packages/datasets/data_files.py?line=788'>789</a>\u001b[0m             allowed_extensions\u001b[39m=\u001b[39;49mallowed_extensions,\n\u001b[0;32m    <a href='file:///c%3A/Users/KoLiBer/Documents/Workspace/nlpexercises/.venv/lib/site-packages/datasets/data_files.py?line=789'>790</a>\u001b[0m             use_auth_token\u001b[39m=\u001b[39;49muse_auth_token,\n\u001b[0;32m    <a href='file:///c%3A/Users/KoLiBer/Documents/Workspace/nlpexercises/.venv/lib/site-packages/datasets/data_files.py?line=790'>791</a>\u001b[0m         )\n\u001b[0;32m    <a href='file:///c%3A/Users/KoLiBer/Documents/Workspace/nlpexercises/.venv/lib/site-packages/datasets/data_files.py?line=791'>792</a>\u001b[0m         \u001b[39mif\u001b[39;00m \u001b[39mnot\u001b[39;00m \u001b[39misinstance\u001b[39m(patterns_for_key, DataFilesList)\n\u001b[0;32m    <a href='file:///c%3A/Users/KoLiBer/Documents/Workspace/nlpexercises/.venv/lib/site-packages/datasets/data_files.py?line=792'>793</a>\u001b[0m         \u001b[39melse\u001b[39;00m patterns_for_key\n\u001b[0;32m    <a href='file:///c%3A/Users/KoLiBer/Documents/Workspace/nlpexercises/.venv/lib/site-packages/datasets/data_files.py?line=793'>794</a>\u001b[0m     )\n\u001b[0;32m    <a href='file:///c%3A/Users/KoLiBer/Documents/Workspace/nlpexercises/.venv/lib/site-packages/datasets/data_files.py?line=794'>795</a>\u001b[0m \u001b[39mreturn\u001b[39;00m out\n",
      "File \u001b[1;32mc:\\Users\\KoLiBer\\Documents\\Workspace\\nlpexercises\\.venv\\lib\\site-packages\\datasets\\data_files.py:754\u001b[0m, in \u001b[0;36mDataFilesList.from_local_or_remote\u001b[1;34m(cls, patterns, base_path, allowed_extensions, use_auth_token)\u001b[0m\n\u001b[0;32m    <a href='file:///c%3A/Users/KoLiBer/Documents/Workspace/nlpexercises/.venv/lib/site-packages/datasets/data_files.py?line=744'>745</a>\u001b[0m \u001b[39m@classmethod\u001b[39m\n\u001b[0;32m    <a href='file:///c%3A/Users/KoLiBer/Documents/Workspace/nlpexercises/.venv/lib/site-packages/datasets/data_files.py?line=745'>746</a>\u001b[0m \u001b[39mdef\u001b[39;00m \u001b[39mfrom_local_or_remote\u001b[39m(\n\u001b[0;32m    <a href='file:///c%3A/Users/KoLiBer/Documents/Workspace/nlpexercises/.venv/lib/site-packages/datasets/data_files.py?line=746'>747</a>\u001b[0m     \u001b[39mcls\u001b[39m,\n\u001b[1;32m   (...)\u001b[0m\n\u001b[0;32m    <a href='file:///c%3A/Users/KoLiBer/Documents/Workspace/nlpexercises/.venv/lib/site-packages/datasets/data_files.py?line=750'>751</a>\u001b[0m     use_auth_token: Optional[Union[\u001b[39mbool\u001b[39m, \u001b[39mstr\u001b[39m]] \u001b[39m=\u001b[39m \u001b[39mNone\u001b[39;00m,\n\u001b[0;32m    <a href='file:///c%3A/Users/KoLiBer/Documents/Workspace/nlpexercises/.venv/lib/site-packages/datasets/data_files.py?line=751'>752</a>\u001b[0m ) \u001b[39m-\u001b[39m\u001b[39m>\u001b[39m \u001b[39m\"\u001b[39m\u001b[39mDataFilesList\u001b[39m\u001b[39m\"\u001b[39m:\n\u001b[0;32m    <a href='file:///c%3A/Users/KoLiBer/Documents/Workspace/nlpexercises/.venv/lib/site-packages/datasets/data_files.py?line=752'>753</a>\u001b[0m     base_path \u001b[39m=\u001b[39m base_path \u001b[39mif\u001b[39;00m base_path \u001b[39mis\u001b[39;00m \u001b[39mnot\u001b[39;00m \u001b[39mNone\u001b[39;00m \u001b[39melse\u001b[39;00m \u001b[39mstr\u001b[39m(Path()\u001b[39m.\u001b[39mresolve())\n\u001b[1;32m--> <a href='file:///c%3A/Users/KoLiBer/Documents/Workspace/nlpexercises/.venv/lib/site-packages/datasets/data_files.py?line=753'>754</a>\u001b[0m     data_files \u001b[39m=\u001b[39m resolve_patterns_locally_or_by_urls(base_path, patterns, allowed_extensions)\n\u001b[0;32m    <a href='file:///c%3A/Users/KoLiBer/Documents/Workspace/nlpexercises/.venv/lib/site-packages/datasets/data_files.py?line=754'>755</a>\u001b[0m     origin_metadata \u001b[39m=\u001b[39m _get_origin_metadata_locally_or_by_urls(data_files, use_auth_token\u001b[39m=\u001b[39muse_auth_token)\n\u001b[0;32m    <a href='file:///c%3A/Users/KoLiBer/Documents/Workspace/nlpexercises/.venv/lib/site-packages/datasets/data_files.py?line=755'>756</a>\u001b[0m     \u001b[39mreturn\u001b[39;00m \u001b[39mcls\u001b[39m(data_files, origin_metadata)\n",
      "File \u001b[1;32mc:\\Users\\KoLiBer\\Documents\\Workspace\\nlpexercises\\.venv\\lib\\site-packages\\datasets\\data_files.py:352\u001b[0m, in \u001b[0;36mresolve_patterns_locally_or_by_urls\u001b[1;34m(base_path, patterns, allowed_extensions)\u001b[0m\n\u001b[0;32m    <a href='file:///c%3A/Users/KoLiBer/Documents/Workspace/nlpexercises/.venv/lib/site-packages/datasets/data_files.py?line=349'>350</a>\u001b[0m         data_files\u001b[39m.\u001b[39mappend(Url(pattern))\n\u001b[0;32m    <a href='file:///c%3A/Users/KoLiBer/Documents/Workspace/nlpexercises/.venv/lib/site-packages/datasets/data_files.py?line=350'>351</a>\u001b[0m     \u001b[39melse\u001b[39;00m:\n\u001b[1;32m--> <a href='file:///c%3A/Users/KoLiBer/Documents/Workspace/nlpexercises/.venv/lib/site-packages/datasets/data_files.py?line=351'>352</a>\u001b[0m         \u001b[39mfor\u001b[39;00m path \u001b[39min\u001b[39;00m _resolve_single_pattern_locally(base_path, pattern, allowed_extensions):\n\u001b[0;32m    <a href='file:///c%3A/Users/KoLiBer/Documents/Workspace/nlpexercises/.venv/lib/site-packages/datasets/data_files.py?line=352'>353</a>\u001b[0m             data_files\u001b[39m.\u001b[39mappend(path)\n\u001b[0;32m    <a href='file:///c%3A/Users/KoLiBer/Documents/Workspace/nlpexercises/.venv/lib/site-packages/datasets/data_files.py?line=354'>355</a>\u001b[0m \u001b[39mif\u001b[39;00m \u001b[39mnot\u001b[39;00m data_files:\n",
      "File \u001b[1;32mc:\\Users\\KoLiBer\\Documents\\Workspace\\nlpexercises\\.venv\\lib\\site-packages\\datasets\\data_files.py:293\u001b[0m, in \u001b[0;36m_resolve_single_pattern_locally\u001b[1;34m(base_path, pattern, allowed_extensions)\u001b[0m\n\u001b[0;32m    <a href='file:///c%3A/Users/KoLiBer/Documents/Workspace/nlpexercises/.venv/lib/site-packages/datasets/data_files.py?line=290'>291</a>\u001b[0m     out \u001b[39m=\u001b[39m matched_paths\n\u001b[0;32m    <a href='file:///c%3A/Users/KoLiBer/Documents/Workspace/nlpexercises/.venv/lib/site-packages/datasets/data_files.py?line=291'>292</a>\u001b[0m \u001b[39mif\u001b[39;00m \u001b[39mnot\u001b[39;00m out \u001b[39mand\u001b[39;00m \u001b[39mnot\u001b[39;00m contains_wildcards(pattern):\n\u001b[1;32m--> <a href='file:///c%3A/Users/KoLiBer/Documents/Workspace/nlpexercises/.venv/lib/site-packages/datasets/data_files.py?line=292'>293</a>\u001b[0m     error_msg \u001b[39m=\u001b[39m \u001b[39mf\u001b[39m\u001b[39m\"\u001b[39m\u001b[39mUnable to find \u001b[39m\u001b[39m'\u001b[39m\u001b[39m{\u001b[39;00mpattern\u001b[39m}\u001b[39;00m\u001b[39m'\u001b[39m\u001b[39m at \u001b[39m\u001b[39m{\u001b[39;00mPath(base_path)\u001b[39m.\u001b[39mresolve()\u001b[39m}\u001b[39;00m\u001b[39m\"\u001b[39m\n\u001b[0;32m    <a href='file:///c%3A/Users/KoLiBer/Documents/Workspace/nlpexercises/.venv/lib/site-packages/datasets/data_files.py?line=293'>294</a>\u001b[0m     \u001b[39mif\u001b[39;00m allowed_extensions \u001b[39mis\u001b[39;00m \u001b[39mnot\u001b[39;00m \u001b[39mNone\u001b[39;00m:\n\u001b[0;32m    <a href='file:///c%3A/Users/KoLiBer/Documents/Workspace/nlpexercises/.venv/lib/site-packages/datasets/data_files.py?line=294'>295</a>\u001b[0m         error_msg \u001b[39m+\u001b[39m\u001b[39m=\u001b[39m \u001b[39mf\u001b[39m\u001b[39m\"\u001b[39m\u001b[39m with any supported extension \u001b[39m\u001b[39m{\u001b[39;00m\u001b[39mlist\u001b[39m(allowed_extensions)\u001b[39m}\u001b[39;00m\u001b[39m\"\u001b[39m\n",
      "File \u001b[1;32mc:\\python38\\lib\\pathlib.py:1159\u001b[0m, in \u001b[0;36mPath.resolve\u001b[1;34m(self, strict)\u001b[0m\n\u001b[0;32m   <a href='file:///c%3A/python38/lib/pathlib.py?line=1156'>1157</a>\u001b[0m \u001b[39mif\u001b[39;00m \u001b[39mself\u001b[39m\u001b[39m.\u001b[39m_closed:\n\u001b[0;32m   <a href='file:///c%3A/python38/lib/pathlib.py?line=1157'>1158</a>\u001b[0m     \u001b[39mself\u001b[39m\u001b[39m.\u001b[39m_raise_closed()\n\u001b[1;32m-> <a href='file:///c%3A/python38/lib/pathlib.py?line=1158'>1159</a>\u001b[0m s \u001b[39m=\u001b[39m \u001b[39mself\u001b[39;49m\u001b[39m.\u001b[39;49m_flavour\u001b[39m.\u001b[39;49mresolve(\u001b[39mself\u001b[39;49m, strict\u001b[39m=\u001b[39;49mstrict)\n\u001b[0;32m   <a href='file:///c%3A/python38/lib/pathlib.py?line=1159'>1160</a>\u001b[0m \u001b[39mif\u001b[39;00m s \u001b[39mis\u001b[39;00m \u001b[39mNone\u001b[39;00m:\n\u001b[0;32m   <a href='file:///c%3A/python38/lib/pathlib.py?line=1160'>1161</a>\u001b[0m     \u001b[39m# No symlink resolution => for consistency, raise an error if\u001b[39;00m\n\u001b[0;32m   <a href='file:///c%3A/python38/lib/pathlib.py?line=1161'>1162</a>\u001b[0m     \u001b[39m# the path doesn't exist or is forbidden\u001b[39;00m\n\u001b[0;32m   <a href='file:///c%3A/python38/lib/pathlib.py?line=1162'>1163</a>\u001b[0m     \u001b[39mself\u001b[39m\u001b[39m.\u001b[39mstat()\n",
      "File \u001b[1;32mc:\\python38\\lib\\pathlib.py:202\u001b[0m, in \u001b[0;36m_WindowsFlavour.resolve\u001b[1;34m(self, path, strict)\u001b[0m\n\u001b[0;32m    <a href='file:///c%3A/python38/lib/pathlib.py?line=199'>200</a>\u001b[0m \u001b[39mwhile\u001b[39;00m \u001b[39mTrue\u001b[39;00m:\n\u001b[0;32m    <a href='file:///c%3A/python38/lib/pathlib.py?line=200'>201</a>\u001b[0m     \u001b[39mtry\u001b[39;00m:\n\u001b[1;32m--> <a href='file:///c%3A/python38/lib/pathlib.py?line=201'>202</a>\u001b[0m         s \u001b[39m=\u001b[39m \u001b[39mself\u001b[39m\u001b[39m.\u001b[39m_ext_to_normal(_getfinalpathname(s))\n\u001b[0;32m    <a href='file:///c%3A/python38/lib/pathlib.py?line=202'>203</a>\u001b[0m     \u001b[39mexcept\u001b[39;00m \u001b[39mFileNotFoundError\u001b[39;00m:\n\u001b[0;32m    <a href='file:///c%3A/python38/lib/pathlib.py?line=203'>204</a>\u001b[0m         previous_s \u001b[39m=\u001b[39m s\n",
      "\u001b[1;31mOSError\u001b[0m: [WinError 123] The filename, directory name, or volume label syntax is incorrect: 'https:\\\\huggingface.co\\\\datasets\\\\conll2003\\\\resolve\\\\main'"
     ]
    }
   ],
   "source": [
    "from datasets import load_dataset\n",
    "\n",
    "load_dataset(\"conll2003\", data_files={\n",
    "    \"train\": \"../lib/Train.txt\",\n",
    "    \"test\": \"../lib/Test.txt\",\n",
    "})"
   ]
  },
  {
   "cell_type": "markdown",
   "metadata": {
    "id": "rI2REVIevtrv"
   },
   "source": [
    "---"
   ]
  },
  {
   "cell_type": "markdown",
   "metadata": {
    "id": "UHBfyoFSvtrw"
   },
   "source": [
    "## Preprocessing"
   ]
  },
  {
   "cell_type": "code",
   "execution_count": 7,
   "metadata": {
    "id": "aG7Q131wvtrx"
   },
   "outputs": [],
   "source": [
    "word_encoder = skprocessing.LabelEncoder().fit(list(words(train_reader)))\n",
    "tag_encoder = skprocessing.LabelEncoder().fit(list(tags(train_reader)))"
   ]
  },
  {
   "cell_type": "code",
   "execution_count": null,
   "metadata": {
    "colab": {
     "base_uri": "https://localhost:8080/",
     "height": 49,
     "referenced_widgets": [
      "2103d65d35f64f95b17b365fa5bf4bc5",
      "c2bb4caf60a04bf793a5443f5670fba5",
      "1d3ebb94f8b3445599bd382037c6e174",
      "eac84edf1b524e939935cdcf3f2eb59d",
      "45a644864e214afebeb1819211ca944f",
      "a055e3e6031f45b387c2f4641357f88b",
      "1c1a7a0e9b5b4be4bab7e31454e255f9",
      "121c524c87d94a30b6f3ab670cb6b8ab",
      "4e5ce6fd5e0041f1a7291087e00ba2e9",
      "2eb1779545db4a80907ef9f475a66fd3",
      "7bcfbf0157a3452784d1a5781a8e9db9"
     ]
    },
    "id": "CCLeJHAsvtrx",
    "outputId": "384e2b1e-1d46-4b6c-cd60-68ff92d34e94"
   },
   "outputs": [
    {
     "data": {
      "application/vnd.jupyter.widget-view+json": {
       "model_id": "2103d65d35f64f95b17b365fa5bf4bc5",
       "version_major": 2,
       "version_minor": 0
      },
      "text/plain": [
       "  0%|          | 0/11 [00:00<?, ?ba/s]"
      ]
     },
     "metadata": {},
     "output_type": "display_data"
    }
   ],
   "source": [
    "from datasets import Dataset\n",
    "from transformers import AutoTokenizer\n",
    "\n",
    "tokenizer = AutoTokenizer.from_pretrained(\"HooshvareLab/bert-fa-base-uncased\")"
   ]
  },
  {
   "cell_type": "code",
   "execution_count": null,
   "metadata": {},
   "outputs": [],
   "source": [
    "train_tokens = tokenizer()"
   ]
  },
  {
   "cell_type": "markdown",
   "metadata": {
    "id": "cowVS3e5vtry"
   },
   "source": [
    "---"
   ]
  },
  {
   "cell_type": "markdown",
   "metadata": {
    "id": "qZjZe48zvtr1"
   },
   "source": [
    "## Training"
   ]
  },
  {
   "cell_type": "code",
   "execution_count": 12,
   "metadata": {
    "colab": {
     "base_uri": "https://localhost:8080/",
     "height": 0
    },
    "id": "J7VFKYmOvtr1",
    "outputId": "64a5220e-3c21-4ed3-c372-0c9fcf134b6e"
   },
   "outputs": [
    {
     "name": "stderr",
     "output_type": "stream",
     "text": [
      "All model checkpoint layers were used when initializing TFBertForTokenClassification.\n",
      "\n",
      "Some layers of TFBertForTokenClassification were not initialized from the model checkpoint at HooshvareLab/bert-fa-base-uncased and are newly initialized: ['classifier']\n",
      "You should probably TRAIN this model on a down-stream task to be able to use it for predictions and inference.\n"
     ]
    }
   ],
   "source": [
    "from transformers import TFAutoModelForTokenClassification\n",
    "\n",
    "model = TFAutoModelForTokenClassification.from_pretrained(\"HooshvareLab/bert-fa-base-uncased\", num_labels=len(tag_encoder.classes_))\n",
    "\n",
    "model.compile(\n",
    "    optimizer=tf.keras.optimizers.Adam(learning_rate=1e-5),\n",
    "    loss=tf.keras.losses.SparseCategoricalCrossentropy(from_logits=True),\n",
    "    metrics=[\"accuracy\"],\n",
    ")"
   ]
  },
  {
   "cell_type": "code",
   "execution_count": null,
   "metadata": {
    "colab": {
     "base_uri": "https://localhost:8080/",
     "height": 0
    },
    "id": "mUdATQ7rvtr1",
    "outputId": "1f0b0221-612f-4918-f967-721da3134176"
   },
   "outputs": [
    {
     "name": "stdout",
     "output_type": "stream",
     "text": [
      "Epoch 1/4\n",
      "1100/1100 [==============================] - 1132s 1s/step - loss: 0.7946 - accuracy: 0.7883\n",
      "Epoch 2/4\n",
      "1100/1100 [==============================] - 1127s 1s/step - loss: 0.2830 - accuracy: 0.9215\n",
      "Epoch 3/4\n",
      "1100/1100 [==============================] - 1127s 1s/step - loss: 0.1694 - accuracy: 0.9545\n",
      "Epoch 4/4\n",
      "1100/1100 [==============================] - 1126s 1s/step - loss: 0.1043 - accuracy: 0.9723\n"
     ]
    },
    {
     "data": {
      "text/plain": [
       "<keras.callbacks.History at 0x7fc5d461b550>"
      ]
     },
     "metadata": {},
     "output_type": "display_data"
    }
   ],
   "source": [
    "model.fit(train_set, epochs=4)"
   ]
  },
  {
   "cell_type": "markdown",
   "metadata": {
    "id": "PO7tU1Xwvtr2"
   },
   "source": [
    "---"
   ]
  },
  {
   "cell_type": "markdown",
   "metadata": {
    "id": "_IVeWlHPvtr2"
   },
   "source": [
    "## Testing"
   ]
  },
  {
   "cell_type": "code",
   "execution_count": 13,
   "metadata": {
    "colab": {
     "base_uri": "https://localhost:8080/",
     "height": 0
    },
    "id": "SchKxEX3vtr2",
    "outputId": "7e58b0e0-c21c-4d46-d9e4-ac4d64122129"
   },
   "outputs": [
    {
     "ename": "AttributeError",
     "evalue": "in user code:\n\n    File \"c:\\Users\\KoLiBer\\Documents\\Workspace\\nlpexercises\\.venv\\lib\\site-packages\\keras\\engine\\training.py\", line 1557, in test_function  *\n        return step_function(self, iterator)\n    File \"c:\\Users\\KoLiBer\\Documents\\Workspace\\nlpexercises\\.venv\\lib\\site-packages\\keras\\engine\\training.py\", line 1546, in step_function  **\n        outputs = model.distribute_strategy.run(run_step, args=(data,))\n    File \"c:\\Users\\KoLiBer\\Documents\\Workspace\\nlpexercises\\.venv\\lib\\site-packages\\keras\\engine\\training.py\", line 1535, in run_step  **\n        outputs = model.test_step(data)\n    File \"c:\\Users\\KoLiBer\\Documents\\Workspace\\nlpexercises\\.venv\\lib\\site-packages\\transformers\\modeling_tf_utils.py\", line 1492, in test_step\n        y = {key: val for key, val in x.items() if key in label_kwargs}\n\n    AttributeError: 'Tensor' object has no attribute 'items'\n",
     "output_type": "error",
     "traceback": [
      "\u001b[1;31m---------------------------------------------------------------------------\u001b[0m",
      "\u001b[1;31mAttributeError\u001b[0m                            Traceback (most recent call last)",
      "\u001b[1;32mc:\\Users\\KoLiBer\\Documents\\Workspace\\nlpexercises\\src\\exercise6.ipynb Cell 19'\u001b[0m in \u001b[0;36m<cell line: 1>\u001b[1;34m()\u001b[0m\n\u001b[1;32m----> <a href='vscode-notebook-cell:/c%3A/Users/KoLiBer/Documents/Workspace/nlpexercises/src/exercise6.ipynb#ch0000025?line=0'>1</a>\u001b[0m result \u001b[39m=\u001b[39m model\u001b[39m.\u001b[39;49mevaluate([\u001b[39m1\u001b[39;49m,\u001b[39m2\u001b[39;49m])\n\u001b[0;32m      <a href='vscode-notebook-cell:/c%3A/Users/KoLiBer/Documents/Workspace/nlpexercises/src/exercise6.ipynb#ch0000025?line=2'>3</a>\u001b[0m \u001b[39mprint\u001b[39m(result)\n",
      "File \u001b[1;32mc:\\Users\\KoLiBer\\Documents\\Workspace\\nlpexercises\\.venv\\lib\\site-packages\\keras\\utils\\traceback_utils.py:67\u001b[0m, in \u001b[0;36mfilter_traceback.<locals>.error_handler\u001b[1;34m(*args, **kwargs)\u001b[0m\n\u001b[0;32m     <a href='file:///c%3A/Users/KoLiBer/Documents/Workspace/nlpexercises/.venv/lib/site-packages/keras/utils/traceback_utils.py?line=64'>65</a>\u001b[0m \u001b[39mexcept\u001b[39;00m \u001b[39mException\u001b[39;00m \u001b[39mas\u001b[39;00m e:  \u001b[39m# pylint: disable=broad-except\u001b[39;00m\n\u001b[0;32m     <a href='file:///c%3A/Users/KoLiBer/Documents/Workspace/nlpexercises/.venv/lib/site-packages/keras/utils/traceback_utils.py?line=65'>66</a>\u001b[0m   filtered_tb \u001b[39m=\u001b[39m _process_traceback_frames(e\u001b[39m.\u001b[39m__traceback__)\n\u001b[1;32m---> <a href='file:///c%3A/Users/KoLiBer/Documents/Workspace/nlpexercises/.venv/lib/site-packages/keras/utils/traceback_utils.py?line=66'>67</a>\u001b[0m   \u001b[39mraise\u001b[39;00m e\u001b[39m.\u001b[39mwith_traceback(filtered_tb) \u001b[39mfrom\u001b[39;00m \u001b[39mNone\u001b[39m\n\u001b[0;32m     <a href='file:///c%3A/Users/KoLiBer/Documents/Workspace/nlpexercises/.venv/lib/site-packages/keras/utils/traceback_utils.py?line=67'>68</a>\u001b[0m \u001b[39mfinally\u001b[39;00m:\n\u001b[0;32m     <a href='file:///c%3A/Users/KoLiBer/Documents/Workspace/nlpexercises/.venv/lib/site-packages/keras/utils/traceback_utils.py?line=68'>69</a>\u001b[0m   \u001b[39mdel\u001b[39;00m filtered_tb\n",
      "File \u001b[1;32m~\\AppData\\Local\\Temp\\__autograph_generated_fileccefrssq.py:15\u001b[0m, in \u001b[0;36mouter_factory.<locals>.inner_factory.<locals>.tf__test_function\u001b[1;34m(iterator)\u001b[0m\n\u001b[0;32m     <a href='file:///c%3A/Users/KoLiBer/AppData/Local/Temp/__autograph_generated_fileccefrssq.py?line=12'>13</a>\u001b[0m \u001b[39mtry\u001b[39;00m:\n\u001b[0;32m     <a href='file:///c%3A/Users/KoLiBer/AppData/Local/Temp/__autograph_generated_fileccefrssq.py?line=13'>14</a>\u001b[0m     do_return \u001b[39m=\u001b[39m \u001b[39mTrue\u001b[39;00m\n\u001b[1;32m---> <a href='file:///c%3A/Users/KoLiBer/AppData/Local/Temp/__autograph_generated_fileccefrssq.py?line=14'>15</a>\u001b[0m     retval_ \u001b[39m=\u001b[39m ag__\u001b[39m.\u001b[39mconverted_call(ag__\u001b[39m.\u001b[39mld(step_function), (ag__\u001b[39m.\u001b[39mld(\u001b[39mself\u001b[39m), ag__\u001b[39m.\u001b[39mld(iterator)), \u001b[39mNone\u001b[39;00m, fscope)\n\u001b[0;32m     <a href='file:///c%3A/Users/KoLiBer/AppData/Local/Temp/__autograph_generated_fileccefrssq.py?line=15'>16</a>\u001b[0m \u001b[39mexcept\u001b[39;00m:\n\u001b[0;32m     <a href='file:///c%3A/Users/KoLiBer/AppData/Local/Temp/__autograph_generated_fileccefrssq.py?line=16'>17</a>\u001b[0m     do_return \u001b[39m=\u001b[39m \u001b[39mFalse\u001b[39;00m\n",
      "File \u001b[1;32mc:\\Users\\KoLiBer\\Documents\\Workspace\\nlpexercises\\.venv\\lib\\site-packages\\transformers\\modeling_tf_utils.py:1492\u001b[0m, in \u001b[0;36mTFPreTrainedModel.test_step\u001b[1;34m(self, data)\u001b[0m\n\u001b[0;32m   <a href='file:///c%3A/Users/KoLiBer/Documents/Workspace/nlpexercises/.venv/lib/site-packages/transformers/modeling_tf_utils.py?line=1489'>1490</a>\u001b[0m                 x[output_to_label[key]] \u001b[39m=\u001b[39m val\n\u001b[0;32m   <a href='file:///c%3A/Users/KoLiBer/Documents/Workspace/nlpexercises/.venv/lib/site-packages/transformers/modeling_tf_utils.py?line=1490'>1491</a>\u001b[0m \u001b[39mif\u001b[39;00m y \u001b[39mis\u001b[39;00m \u001b[39mNone\u001b[39;00m:\n\u001b[1;32m-> <a href='file:///c%3A/Users/KoLiBer/Documents/Workspace/nlpexercises/.venv/lib/site-packages/transformers/modeling_tf_utils.py?line=1491'>1492</a>\u001b[0m     y \u001b[39m=\u001b[39m {key: val \u001b[39mfor\u001b[39;00m key, val \u001b[39min\u001b[39;00m x\u001b[39m.\u001b[39;49mitems() \u001b[39mif\u001b[39;00m key \u001b[39min\u001b[39;00m label_kwargs}\n\u001b[0;32m   <a href='file:///c%3A/Users/KoLiBer/Documents/Workspace/nlpexercises/.venv/lib/site-packages/transformers/modeling_tf_utils.py?line=1492'>1493</a>\u001b[0m     \u001b[39mif\u001b[39;00m \u001b[39mnot\u001b[39;00m y \u001b[39mand\u001b[39;00m \u001b[39mnot\u001b[39;00m \u001b[39mself\u001b[39m\u001b[39m.\u001b[39m_using_dummy_loss:\n\u001b[0;32m   <a href='file:///c%3A/Users/KoLiBer/Documents/Workspace/nlpexercises/.venv/lib/site-packages/transformers/modeling_tf_utils.py?line=1493'>1494</a>\u001b[0m         \u001b[39mraise\u001b[39;00m \u001b[39mValueError\u001b[39;00m(\u001b[39m\"\u001b[39m\u001b[39mCould not find label column(s) in input dict and no separate labels were provided!\u001b[39m\u001b[39m\"\u001b[39m)\n",
      "\u001b[1;31mAttributeError\u001b[0m: in user code:\n\n    File \"c:\\Users\\KoLiBer\\Documents\\Workspace\\nlpexercises\\.venv\\lib\\site-packages\\keras\\engine\\training.py\", line 1557, in test_function  *\n        return step_function(self, iterator)\n    File \"c:\\Users\\KoLiBer\\Documents\\Workspace\\nlpexercises\\.venv\\lib\\site-packages\\keras\\engine\\training.py\", line 1546, in step_function  **\n        outputs = model.distribute_strategy.run(run_step, args=(data,))\n    File \"c:\\Users\\KoLiBer\\Documents\\Workspace\\nlpexercises\\.venv\\lib\\site-packages\\keras\\engine\\training.py\", line 1535, in run_step  **\n        outputs = model.test_step(data)\n    File \"c:\\Users\\KoLiBer\\Documents\\Workspace\\nlpexercises\\.venv\\lib\\site-packages\\transformers\\modeling_tf_utils.py\", line 1492, in test_step\n        y = {key: val for key, val in x.items() if key in label_kwargs}\n\n    AttributeError: 'Tensor' object has no attribute 'items'\n"
     ]
    }
   ],
   "source": [
    "result = model.evaluate([1,2])\n",
    "\n",
    "print(result)"
   ]
  },
  {
   "cell_type": "markdown",
   "metadata": {
    "id": "4mCfAcKlvtr3"
   },
   "source": [
    "As we can see, the **Pars BERT** pre-trained model returend much better accuracy after fine-tuning."
   ]
  },
  {
   "cell_type": "markdown",
   "metadata": {
    "id": "QU3mpEmlvtr3"
   },
   "source": [
    "---"
   ]
  }
 ],
 "metadata": {
  "interpreter": {
   "hash": "9278c29f1c5526d5663cab0214876a9a1ad235f0a8fdeebad627cd7666833d94"
  },
  "kernelspec": {
   "display_name": "Python 3.8.0 ('.venv': poetry)",
   "language": "python",
   "name": "python3"
  },
  "language_info": {
   "codemirror_mode": {
    "name": "ipython",
    "version": 3
   },
   "file_extension": ".py",
   "mimetype": "text/x-python",
   "name": "python",
   "nbconvert_exporter": "python",
   "pygments_lexer": "ipython3",
   "version": "3.8.0"
  },
  "orig_nbformat": 4
 },
 "nbformat": 4,
 "nbformat_minor": 2
}
