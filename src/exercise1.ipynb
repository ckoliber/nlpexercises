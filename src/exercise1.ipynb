{
 "cells": [
  {
   "cell_type": "markdown",
   "id": "08e0ffec",
   "metadata": {},
   "source": [
    "# NLP Answers\n",
    "\n",
    "- **Answer Set**: No. 01\n",
    "- **Full Name**: Mohammad Hosein Nemati\n",
    "- **Student Code**: `610300185`"
   ]
  },
  {
   "cell_type": "markdown",
   "id": "6595aa20",
   "metadata": {},
   "source": [
    "---"
   ]
  },
  {
   "cell_type": "markdown",
   "id": "f4ed694d",
   "metadata": {},
   "source": [
    "## Basics\n",
    "\n",
    "In this section we will done some basic steps:"
   ]
  },
  {
   "cell_type": "markdown",
   "id": "679cf505",
   "metadata": {},
   "source": [
    "### Libraries\n",
    "\n",
    "Before begin, we must import these required libraries:"
   ]
  },
  {
   "cell_type": "code",
   "execution_count": 42,
   "id": "8d1e4ab7",
   "metadata": {},
   "outputs": [
    {
     "name": "stdout",
     "output_type": "stream",
     "text": [
      "Using matplotlib backend: TkAgg\n"
     ]
    }
   ],
   "source": [
    "import re as re\n",
    "import hazm as hazm\n",
    "\n",
    "import numpy as np\n",
    "import pandas as pd\n",
    "import sklearn as sk\n",
    "import matplotlib.pyplot as plt\n",
    "\n",
    "import sklearn.utils as skutils\n",
    "import sklearn.pipeline as skpipeline\n",
    "import sklearn.preprocessing as skprocessing\n",
    "import sklearn.feature_extraction.text as sktext\n",
    "\n",
    "sk.set_config(display=\"diagram\")\n",
    "%matplotlib"
   ]
  },
  {
   "cell_type": "markdown",
   "id": "8d32c3cd",
   "metadata": {},
   "source": [
    "### Dataset\n",
    "\n",
    "Now we can load our dataset:"
   ]
  },
  {
   "cell_type": "code",
   "execution_count": 83,
   "id": "75759233",
   "metadata": {},
   "outputs": [
    {
     "data": {
      "text/html": [
       "<div>\n",
       "<style scoped>\n",
       "    .dataframe tbody tr th:only-of-type {\n",
       "        vertical-align: middle;\n",
       "    }\n",
       "\n",
       "    .dataframe tbody tr th {\n",
       "        vertical-align: top;\n",
       "    }\n",
       "\n",
       "    .dataframe thead th {\n",
       "        text-align: right;\n",
       "    }\n",
       "</style>\n",
       "<table border=\"1\" class=\"dataframe\">\n",
       "  <thead>\n",
       "    <tr style=\"text-align: right;\">\n",
       "      <th></th>\n",
       "      <th>text</th>\n",
       "    </tr>\n",
       "  </thead>\n",
       "  <tbody>\n",
       "    <tr>\n",
       "      <th>67</th>\n",
       "      <td>\\nگزارشي از برپايي نمايشگاه نقاشي در مجموعه فر...</td>\n",
       "    </tr>\n",
       "    <tr>\n",
       "      <th>30</th>\n",
       "      <td>تنديس كارگرپتروشيمي دركارگاه مجسمه سازي حوزه ه...</td>\n",
       "    </tr>\n",
       "    <tr>\n",
       "      <th>0</th>\n",
       "      <td>o در اجراي ضيافت حالا، مناسبات تغيير كرده اند،...</td>\n",
       "    </tr>\n",
       "    <tr>\n",
       "      <th>32</th>\n",
       "      <td>. واحد رسانه هاي خارجي همشهري -. تنديسها و قطع...</td>\n",
       "    </tr>\n",
       "    <tr>\n",
       "      <th>15</th>\n",
       "      <td>در بازار شوش كودكاني كه تحت تاثير جو نامناسب ح...</td>\n",
       "    </tr>\n",
       "    <tr>\n",
       "      <th>...</th>\n",
       "      <td>...</td>\n",
       "    </tr>\n",
       "    <tr>\n",
       "      <th>6</th>\n",
       "      <td>. واحدرسانه هاي خارجي - اخيرا بر سر انتشار و س...</td>\n",
       "    </tr>\n",
       "    <tr>\n",
       "      <th>20</th>\n",
       "      <td>مشكل نمايش دو فيلم تقدير شده معاونت سينمايي \\n...</td>\n",
       "    </tr>\n",
       "    <tr>\n",
       "      <th>83</th>\n",
       "      <td>\\nدرباره مهرعلي پيشروترين نقاش قاجاريه \\n\\nدكت...</td>\n",
       "    </tr>\n",
       "    <tr>\n",
       "      <th>8</th>\n",
       "      <td>فيلم كيميا به كارگرداني احمدرضا درويش در نگارخ...</td>\n",
       "    </tr>\n",
       "    <tr>\n",
       "      <th>51</th>\n",
       "      <td>واحد رسانه هاي خارجي - شاعر و رمان نويس چيني آ...</td>\n",
       "    </tr>\n",
       "  </tbody>\n",
       "</table>\n",
       "<p>100 rows × 1 columns</p>\n",
       "</div>"
      ],
      "text/plain": [
       "                                                 text\n",
       "67  \\nگزارشي از برپايي نمايشگاه نقاشي در مجموعه فر...\n",
       "30  تنديس كارگرپتروشيمي دركارگاه مجسمه سازي حوزه ه...\n",
       "0   o در اجراي ضيافت حالا، مناسبات تغيير كرده اند،...\n",
       "32  . واحد رسانه هاي خارجي همشهري -. تنديسها و قطع...\n",
       "15  در بازار شوش كودكاني كه تحت تاثير جو نامناسب ح...\n",
       "..                                                ...\n",
       "6   . واحدرسانه هاي خارجي - اخيرا بر سر انتشار و س...\n",
       "20  مشكل نمايش دو فيلم تقدير شده معاونت سينمايي \\n...\n",
       "83  \\nدرباره مهرعلي پيشروترين نقاش قاجاريه \\n\\nدكت...\n",
       "8   فيلم كيميا به كارگرداني احمدرضا درويش در نگارخ...\n",
       "51  واحد رسانه هاي خارجي - شاعر و رمان نويس چيني آ...\n",
       "\n",
       "[100 rows x 1 columns]"
      ]
     },
     "execution_count": 83,
     "metadata": {},
     "output_type": "execute_result"
    }
   ],
   "source": [
    "corpus = hazm.HamshahriReader(root=\"../lib/HAM2\")\n",
    "\n",
    "documents = filter(lambda doc: \"Literature and Art\" in doc[\"categories_en\"], corpus.docs())\n",
    "\n",
    "data_frame = pd.DataFrame([next(documents) for _ in range(100)]).drop([\n",
    "    \"id\", \"date\", \"issue\", \"categories_fa\", \"categories_en\", \"title\"\n",
    "], axis=1)\n",
    "\n",
    "data_frame = skutils.shuffle(data_frame)\n",
    "\n",
    "data_features = data_frame.to_numpy().flatten()\n",
    "\n",
    "data_frame"
   ]
  },
  {
   "cell_type": "markdown",
   "metadata": {},
   "source": [
    "---"
   ]
  },
  {
   "cell_type": "markdown",
   "metadata": {},
   "source": [
    "## Problem"
   ]
  },
  {
   "cell_type": "code",
   "execution_count": 94,
   "metadata": {},
   "outputs": [
    {
     "data": {
      "text/plain": [
       "<1x7458 sparse matrix of type '<class 'numpy.int64'>'\n",
       "\twith 261 stored elements in Compressed Sparse Row format>"
      ]
     },
     "execution_count": 94,
     "metadata": {},
     "output_type": "execute_result"
    }
   ],
   "source": [
    "stop_words = hazm.stopwords_list(\"../lib/PersianStopWords.txt\")\n",
    "uncommon_words = []\n",
    "lemmatizer = hazm.Lemmatizer()\n",
    "\n",
    "def word_tokenize(sentence):\n",
    "    return [\n",
    "        lemmatizer.lemmatize(token) for token in hazm.word_tokenize(sentence)\n",
    "        if token not in stop_words + uncommon_words\n",
    "    ]\n",
    "\n",
    "model = skpipeline.Pipeline([\n",
    "    (\"vectorizer\", sktext.CountVectorizer(\n",
    "        lowercase=True,\n",
    "        tokenizer=word_tokenize,\n",
    "        ngram_range=(1, 1)\n",
    "    ))\n",
    "]).fit(data_features)\n",
    "\n",
    "model.transform(data_features[:1])"
   ]
  },
  {
   "cell_type": "markdown",
   "metadata": {},
   "source": [
    "---"
   ]
  }
 ],
 "metadata": {
  "interpreter": {
   "hash": "9278c29f1c5526d5663cab0214876a9a1ad235f0a8fdeebad627cd7666833d94"
  },
  "kernelspec": {
   "display_name": "Python 3.8.0 64-bit ('.venv': poetry)",
   "language": "python",
   "name": "python3"
  },
  "language_info": {
   "codemirror_mode": {
    "name": "ipython",
    "version": 3
   },
   "file_extension": ".py",
   "mimetype": "text/x-python",
   "name": "python",
   "nbconvert_exporter": "python",
   "pygments_lexer": "ipython3",
   "version": "3.8.0"
  },
  "orig_nbformat": 4
 },
 "nbformat": 4,
 "nbformat_minor": 2
}
