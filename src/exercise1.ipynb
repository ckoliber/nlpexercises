{
 "cells": [
  {
   "cell_type": "markdown",
   "id": "08e0ffec",
   "metadata": {},
   "source": [
    "# NLP Answers\n",
    "\n",
    "- **Answer Set**: No. 01\n",
    "- **Full Name**: Mohammad Hosein Nemati\n",
    "- **Student Code**: `610300185`"
   ]
  },
  {
   "cell_type": "markdown",
   "id": "6595aa20",
   "metadata": {},
   "source": [
    "---"
   ]
  },
  {
   "cell_type": "markdown",
   "id": "f4ed694d",
   "metadata": {},
   "source": [
    "## Basics\n",
    "\n",
    "In this section we will done some basic steps:"
   ]
  },
  {
   "cell_type": "markdown",
   "id": "679cf505",
   "metadata": {},
   "source": [
    "### Libraries\n",
    "\n",
    "Before begin, we must import these required libraries:"
   ]
  },
  {
   "cell_type": "code",
   "execution_count": 2,
   "id": "8d1e4ab7",
   "metadata": {},
   "outputs": [
    {
     "name": "stdout",
     "output_type": "stream",
     "text": [
      "Using matplotlib backend: <object object at 0x000001884C7E2AF0>\n"
     ]
    }
   ],
   "source": [
    "import re as re\n",
    "import hazm as hazm\n",
    "\n",
    "import numpy as np\n",
    "import pandas as pd\n",
    "import sklearn as sk\n",
    "import matplotlib.pyplot as plt\n",
    "\n",
    "import sklearn.utils as skutils\n",
    "import sklearn.pipeline as skpipeline\n",
    "import sklearn.preprocessing as skprocessing\n",
    "import sklearn.feature_extraction.text as sktext\n",
    "\n",
    "sk.set_config(display=\"diagram\")\n",
    "%matplotlib"
   ]
  },
  {
   "cell_type": "markdown",
   "id": "8d32c3cd",
   "metadata": {},
   "source": [
    "### Dataset\n",
    "\n",
    "Now we can load our dataset:"
   ]
  },
  {
   "cell_type": "code",
   "execution_count": 5,
   "id": "75759233",
   "metadata": {},
   "outputs": [
    {
     "data": {
      "text/html": [
       "<div>\n",
       "<style scoped>\n",
       "    .dataframe tbody tr th:only-of-type {\n",
       "        vertical-align: middle;\n",
       "    }\n",
       "\n",
       "    .dataframe tbody tr th {\n",
       "        vertical-align: top;\n",
       "    }\n",
       "\n",
       "    .dataframe thead th {\n",
       "        text-align: right;\n",
       "    }\n",
       "</style>\n",
       "<table border=\"1\" class=\"dataframe\">\n",
       "  <thead>\n",
       "    <tr style=\"text-align: right;\">\n",
       "      <th></th>\n",
       "      <th>id</th>\n",
       "      <th>issue</th>\n",
       "      <th>categories_fa</th>\n",
       "      <th>categories_en</th>\n",
       "      <th>date</th>\n",
       "      <th>title</th>\n",
       "      <th>text</th>\n",
       "    </tr>\n",
       "  </thead>\n",
       "  <tbody>\n",
       "    <tr>\n",
       "      <th>43</th>\n",
       "      <td>HAM2-750430-004</td>\n",
       "      <td>شنبه 30 تير 1375، 20 ژوئيه 1996، سال چهارم، شم...</td>\n",
       "      <td>[ادب و هنر]</td>\n",
       "      <td>[Literature and Art]</td>\n",
       "      <td>1375/04/30</td>\n",
       "      <td>كنگره ادب و هنر دوره تيموري پايان يافت</td>\n",
       "      <td>سرويس ادب و هنر: كنگره بين المللي مطالعات ايرا...</td>\n",
       "    </tr>\n",
       "    <tr>\n",
       "      <th>10</th>\n",
       "      <td>HAM2-750406-002</td>\n",
       "      <td>چهارشنبه 6 تير 1375، 26 ژوئن 1996، سال چهارم، ...</td>\n",
       "      <td>[ادب و هنر]</td>\n",
       "      <td>[Literature and Art]</td>\n",
       "      <td>1375/04/06</td>\n",
       "      <td>بازيگري نمايش</td>\n",
       "      <td>در شرق، بازيگران به عنوان مقلد، نقش پايدار و م...</td>\n",
       "    </tr>\n",
       "    <tr>\n",
       "      <th>19</th>\n",
       "      <td>HAM2-750414-001</td>\n",
       "      <td>پنجشنبه 14 تير 1375، 4 ژوئيه 1996، سال چهارم، ...</td>\n",
       "      <td>[ادب و هنر]</td>\n",
       "      <td>[Literature and Art]</td>\n",
       "      <td>1375/04/14</td>\n",
       "      <td>بر پرده نقره اي سينما</td>\n",
       "      <td>رويدادهاي سينماي جهان كارتون گوژپشت نتردام آخر...</td>\n",
       "    </tr>\n",
       "    <tr>\n",
       "      <th>74</th>\n",
       "      <td>HAM2-750508-002</td>\n",
       "      <td>دوشنبه 8 مرداد 1375، 29 جولاي 1996، سال چهارم،...</td>\n",
       "      <td>[ادب و هنر]</td>\n",
       "      <td>[Literature and Art]</td>\n",
       "      <td>1375/05/08</td>\n",
       "      <td>تلاش و سازندگي دولت در جشنواره فيلم</td>\n",
       "      <td>. سرويس ادب و هنر: عملكرد و فعاليتهاي دولت جمه...</td>\n",
       "    </tr>\n",
       "    <tr>\n",
       "      <th>80</th>\n",
       "      <td>HAM2-750509-003</td>\n",
       "      <td>سه شنبه 9 مرداد 1375، 30 جولاي 1996، سال چهارم...</td>\n",
       "      <td>[ادب و هنر]</td>\n",
       "      <td>[Literature and Art]</td>\n",
       "      <td>1375/05/09</td>\n",
       "      <td>مراسم اهداي جوايزمجله فيلم برگزار\\nنمي شود</td>\n",
       "      <td>. سرويس ادب و هنر: ششمين دوره مراسم اهداي جواي...</td>\n",
       "    </tr>\n",
       "    <tr>\n",
       "      <th>...</th>\n",
       "      <td>...</td>\n",
       "      <td>...</td>\n",
       "      <td>...</td>\n",
       "      <td>...</td>\n",
       "      <td>...</td>\n",
       "      <td>...</td>\n",
       "      <td>...</td>\n",
       "    </tr>\n",
       "    <tr>\n",
       "      <th>3</th>\n",
       "      <td>HAM2-750404-003</td>\n",
       "      <td>دوشنبه 4 تير 1375، 24 ژوئن 1996، سال چهارم، شم...</td>\n",
       "      <td>[ادب و هنر]</td>\n",
       "      <td>[Literature and Art]</td>\n",
       "      <td>1375/04/04</td>\n",
       "      <td>جايگاه مخاطب در هنر</td>\n",
       "      <td>نگرشي روانشناسانه بر هنر سينما عنوان مطلبي بود...</td>\n",
       "    </tr>\n",
       "    <tr>\n",
       "      <th>4</th>\n",
       "      <td>HAM2-750404-004</td>\n",
       "      <td>دوشنبه 4 تير 1375، 24 ژوئن 1996، سال چهارم، شم...</td>\n",
       "      <td>[ادب و هنر]</td>\n",
       "      <td>[Literature and Art]</td>\n",
       "      <td>1375/04/04</td>\n",
       "      <td>رويدادهاي هنري جهان</td>\n",
       "      <td>نويسنده انگليسي ديك فرانسيس به عنوان برنده جاي...</td>\n",
       "    </tr>\n",
       "    <tr>\n",
       "      <th>21</th>\n",
       "      <td>HAM2-750416-001</td>\n",
       "      <td>شنبه 16 تير 1375، 6 ژوئيه 1996، سال چهارم، شما...</td>\n",
       "      <td>[ادب و هنر]</td>\n",
       "      <td>[Literature and Art]</td>\n",
       "      <td>1375/04/16</td>\n",
       "      <td>حس زنده بودن عكاسي</td>\n",
       "      <td>گزارشي از برپايي سه نمايشگاه عكس كامران جبرئيل...</td>\n",
       "    </tr>\n",
       "    <tr>\n",
       "      <th>82</th>\n",
       "      <td>HAM2-750509-005</td>\n",
       "      <td>سه شنبه 9 مرداد 1375، 30 جولاي 1996، سال چهارم...</td>\n",
       "      <td>[ادب و هنر]</td>\n",
       "      <td>[Literature and Art]</td>\n",
       "      <td>1375/05/09</td>\n",
       "      <td>اخبار ادبي</td>\n",
       "      <td>نامه اعتراض آميز ياشار كمال \\nدر پي ادامه اعتص...</td>\n",
       "    </tr>\n",
       "    <tr>\n",
       "      <th>46</th>\n",
       "      <td>HAM2-750431-001</td>\n",
       "      <td>يكشنبه 31 تير 1375، 21 ژوئيه 1996، سال چهارم، ...</td>\n",
       "      <td>[ادب و هنر]</td>\n",
       "      <td>[Literature and Art]</td>\n",
       "      <td>1375/04/31</td>\n",
       "      <td>سيماي زن مسلمان را در سيما مخدوش نكنيم</td>\n",
       "      <td>نگاهي به حضور شخصيت زن در مجموعه هاي تلويزيوني...</td>\n",
       "    </tr>\n",
       "  </tbody>\n",
       "</table>\n",
       "<p>100 rows × 7 columns</p>\n",
       "</div>"
      ],
      "text/plain": [
       "                 id                                              issue  \\\n",
       "43  HAM2-750430-004  شنبه 30 تير 1375، 20 ژوئيه 1996، سال چهارم، شم...   \n",
       "10  HAM2-750406-002  چهارشنبه 6 تير 1375، 26 ژوئن 1996، سال چهارم، ...   \n",
       "19  HAM2-750414-001  پنجشنبه 14 تير 1375، 4 ژوئيه 1996، سال چهارم، ...   \n",
       "74  HAM2-750508-002  دوشنبه 8 مرداد 1375، 29 جولاي 1996، سال چهارم،...   \n",
       "80  HAM2-750509-003  سه شنبه 9 مرداد 1375، 30 جولاي 1996، سال چهارم...   \n",
       "..              ...                                                ...   \n",
       "3   HAM2-750404-003  دوشنبه 4 تير 1375، 24 ژوئن 1996، سال چهارم، شم...   \n",
       "4   HAM2-750404-004  دوشنبه 4 تير 1375، 24 ژوئن 1996، سال چهارم، شم...   \n",
       "21  HAM2-750416-001  شنبه 16 تير 1375، 6 ژوئيه 1996، سال چهارم، شما...   \n",
       "82  HAM2-750509-005  سه شنبه 9 مرداد 1375، 30 جولاي 1996، سال چهارم...   \n",
       "46  HAM2-750431-001  يكشنبه 31 تير 1375، 21 ژوئيه 1996، سال چهارم، ...   \n",
       "\n",
       "   categories_fa         categories_en        date  \\\n",
       "43   [ادب و هنر]  [Literature and Art]  1375/04/30   \n",
       "10   [ادب و هنر]  [Literature and Art]  1375/04/06   \n",
       "19   [ادب و هنر]  [Literature and Art]  1375/04/14   \n",
       "74   [ادب و هنر]  [Literature and Art]  1375/05/08   \n",
       "80   [ادب و هنر]  [Literature and Art]  1375/05/09   \n",
       "..           ...                   ...         ...   \n",
       "3    [ادب و هنر]  [Literature and Art]  1375/04/04   \n",
       "4    [ادب و هنر]  [Literature and Art]  1375/04/04   \n",
       "21   [ادب و هنر]  [Literature and Art]  1375/04/16   \n",
       "82   [ادب و هنر]  [Literature and Art]  1375/05/09   \n",
       "46   [ادب و هنر]  [Literature and Art]  1375/04/31   \n",
       "\n",
       "                                         title  \\\n",
       "43      كنگره ادب و هنر دوره تيموري پايان يافت   \n",
       "10                               بازيگري نمايش   \n",
       "19                       بر پرده نقره اي سينما   \n",
       "74         تلاش و سازندگي دولت در جشنواره فيلم   \n",
       "80  مراسم اهداي جوايزمجله فيلم برگزار\\nنمي شود   \n",
       "..                                         ...   \n",
       "3                          جايگاه مخاطب در هنر   \n",
       "4                          رويدادهاي هنري جهان   \n",
       "21                          حس زنده بودن عكاسي   \n",
       "82                                  اخبار ادبي   \n",
       "46      سيماي زن مسلمان را در سيما مخدوش نكنيم   \n",
       "\n",
       "                                                 text  \n",
       "43  سرويس ادب و هنر: كنگره بين المللي مطالعات ايرا...  \n",
       "10  در شرق، بازيگران به عنوان مقلد، نقش پايدار و م...  \n",
       "19  رويدادهاي سينماي جهان كارتون گوژپشت نتردام آخر...  \n",
       "74  . سرويس ادب و هنر: عملكرد و فعاليتهاي دولت جمه...  \n",
       "80  . سرويس ادب و هنر: ششمين دوره مراسم اهداي جواي...  \n",
       "..                                                ...  \n",
       "3   نگرشي روانشناسانه بر هنر سينما عنوان مطلبي بود...  \n",
       "4   نويسنده انگليسي ديك فرانسيس به عنوان برنده جاي...  \n",
       "21  گزارشي از برپايي سه نمايشگاه عكس كامران جبرئيل...  \n",
       "82  نامه اعتراض آميز ياشار كمال \\nدر پي ادامه اعتص...  \n",
       "46  نگاهي به حضور شخصيت زن در مجموعه هاي تلويزيوني...  \n",
       "\n",
       "[100 rows x 7 columns]"
      ]
     },
     "execution_count": 5,
     "metadata": {},
     "output_type": "execute_result"
    }
   ],
   "source": [
    "corpus = hazm.HamshahriReader(root=\"../lib/HAM2\")\n",
    "\n",
    "documents = filter(lambda doc: \"Literature and Art\" in doc[\"categories_en\"], corpus.docs())\n",
    "\n",
    "data_frame = pd.DataFrame([next(documents) for _ in range(100)])\n",
    "data_frame = skutils.shuffle(data_frame)\n",
    "\n",
    "data_features = data_frame.filter([\"text\"], axis=1).to_numpy().flatten()\n",
    "data_labels = data_frame.filter([\"category_en\"], axis=1).to_numpy().flatten()\n",
    "\n",
    "data_frame"
   ]
  },
  {
   "cell_type": "markdown",
   "metadata": {},
   "source": [
    "---"
   ]
  },
  {
   "cell_type": "markdown",
   "metadata": {},
   "source": [
    "## Problem"
   ]
  },
  {
   "cell_type": "code",
   "execution_count": 6,
   "metadata": {},
   "outputs": [
    {
     "name": "stderr",
     "output_type": "stream",
     "text": [
      "c:\\Users\\KoLiBer\\Documents\\Workspace\\nlpexercises\\.venv\\lib\\site-packages\\sklearn\\feature_extraction\\text.py:516: UserWarning: The parameter 'token_pattern' will not be used since 'tokenizer' is not None'\n",
      "  warnings.warn(\n"
     ]
    },
    {
     "data": {
      "text/plain": [
       "<1x7458 sparse matrix of type '<class 'numpy.int64'>'\n",
       "\twith 58 stored elements in Compressed Sparse Row format>"
      ]
     },
     "execution_count": 6,
     "metadata": {},
     "output_type": "execute_result"
    }
   ],
   "source": [
    "stop_words = hazm.stopwords_list(\"../lib/PersianStopWords.txt\")\n",
    "uncommon_words = []\n",
    "lemmatizer = hazm.Lemmatizer()\n",
    "\n",
    "def word_tokenize(sentence):\n",
    "    return [\n",
    "        lemmatizer.lemmatize(token) for token in hazm.word_tokenize(sentence)\n",
    "        if token not in stop_words + uncommon_words\n",
    "    ]\n",
    "\n",
    "model = skpipeline.Pipeline([\n",
    "    (\"vectorizer\", sktext.CountVectorizer(\n",
    "        lowercase=True,\n",
    "        tokenizer=word_tokenize,\n",
    "        ngram_range=(1, 1)\n",
    "    ))\n",
    "]).fit(data_features, data_labels)\n",
    "\n",
    "model.transform(data_features[:1])"
   ]
  },
  {
   "cell_type": "markdown",
   "metadata": {},
   "source": [
    "---"
   ]
  }
 ],
 "metadata": {
  "interpreter": {
   "hash": "9278c29f1c5526d5663cab0214876a9a1ad235f0a8fdeebad627cd7666833d94"
  },
  "kernelspec": {
   "display_name": "Python 3.8.0 64-bit ('.venv': poetry)",
   "language": "python",
   "name": "python3"
  },
  "language_info": {
   "codemirror_mode": {
    "name": "ipython",
    "version": 3
   },
   "file_extension": ".py",
   "mimetype": "text/x-python",
   "name": "python",
   "nbconvert_exporter": "python",
   "pygments_lexer": "ipython3",
   "version": "3.8.0"
  },
  "orig_nbformat": 4
 },
 "nbformat": 4,
 "nbformat_minor": 2
}
